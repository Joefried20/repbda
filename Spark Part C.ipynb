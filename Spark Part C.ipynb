{
  "cells": [
    {
      "cell_type": "code",
      "execution_count": 111,
      "metadata": {
        "colab": {
          "base_uri": "https://localhost:8080/"
        },
        "id": "xmPTI22dXlTk",
        "outputId": "f8d3962a-ae5a-489a-e00b-fc2449bcfe93"
      },
      "outputs": [
        {
          "output_type": "stream",
          "name": "stdout",
          "text": [
            "\u001b[33m\r0% [Working]\u001b[0m\r            \rGet:1 https://cloud.r-project.org/bin/linux/ubuntu jammy-cran40/ InRelease [3,626 B]\n",
            "\u001b[33m\r0% [Connecting to archive.ubuntu.com (91.189.91.81)] [Waiting for headers] [1 InRelease 3,626 B/3,62\u001b[0m\u001b[33m\r0% [Connecting to archive.ubuntu.com (91.189.91.81)] [Waiting for headers] [Connecting to ppa.launch\u001b[0m\r                                                                                                    \rHit:2 https://developer.download.nvidia.com/compute/cuda/repos/ubuntu2204/x86_64  InRelease\n",
            "Get:3 http://security.ubuntu.com/ubuntu jammy-security InRelease [129 kB]\n",
            "Hit:4 http://archive.ubuntu.com/ubuntu jammy InRelease\n",
            "Get:5 http://archive.ubuntu.com/ubuntu jammy-updates InRelease [128 kB]\n",
            "Get:6 http://archive.ubuntu.com/ubuntu jammy-backports InRelease [127 kB]\n",
            "Hit:7 https://ppa.launchpadcontent.net/c2d4u.team/c2d4u4.0+/ubuntu jammy InRelease\n",
            "Get:8 http://archive.ubuntu.com/ubuntu jammy-updates/main amd64 Packages [2,236 kB]\n",
            "Hit:9 https://ppa.launchpadcontent.net/deadsnakes/ppa/ubuntu jammy InRelease\n",
            "Hit:10 https://ppa.launchpadcontent.net/graphics-drivers/ppa/ubuntu jammy InRelease\n",
            "Hit:11 https://ppa.launchpadcontent.net/ubuntugis/ppa/ubuntu jammy InRelease\n",
            "Get:12 http://archive.ubuntu.com/ubuntu jammy-updates/universe amd64 Packages [1,396 kB]\n",
            "Get:13 http://archive.ubuntu.com/ubuntu jammy-backports/universe amd64 Packages [32.2 kB]\n",
            "Fetched 4,052 kB in 2s (2,601 kB/s)\n",
            "Reading package lists... Done\n",
            "Building dependency tree... Done\n",
            "Reading state information... Done\n",
            "4 packages can be upgraded. Run 'apt list --upgradable' to see them.\n"
          ]
        }
      ],
      "source": [
        "# 1) First: install Java, Spark and and run a local Spark session by just running this on Google Colab:\n",
        "!apt update\n",
        "!apt-get install openjdk-8-jdk-headless -qq > /dev/null   # !apt-get --> install java\n",
        "!wget -q https://dlcdn.apache.org/spark/spark-3.5.1/spark-3.5.1-bin-hadoop3.tgz\n",
        "!tar xf spark-3.5.1-bin-hadoop3.tgz  # !tar --> like unzip\n",
        "!pip install -q findspark  # !pip  --> instal a package, we cant import a library without installing it first, most libraries that we used were already installed\n",
        "# This are INSTALLATION COMMANDS IN LINUX that we run in our collab space, it's similar to downloading programs an installing them on our computers\n",
        "# installs Apache Spark 3.1.2, Java 8, and Findspark, a library that makes it easy for Python to find Spark\n",
        "\n",
        "\n",
        "# 2) Second: set the locations where Spark and Java are installed to let know Colab where to find it.\n",
        "import os\n",
        "os.environ[\"JAVA_HOME\"] = \"/usr/lib/jvm/java-8-openjdk-amd64\"\n",
        "os.environ[\"SPARK_HOME\"] = \"/content/spark-3.5.1-bin-hadoop3\"\n",
        "\n",
        "\n",
        "# 3) Third: import spark libraries and use them\n",
        "import findspark\n",
        "findspark.init(\"spark-3.5.1-bin-hadoop3\") # SPARK_HOME\n",
        "from pyspark.sql import SparkSession\n",
        "# Create the session - We need to remember to close it at the end\n",
        "# The session is basically our connection to Spark layer in the Hadoop ecosystem\n",
        "spark = SparkSession.builder.master(\"local[*]\").getOrCreate()\n",
        "from pyspark.sql import Row\n",
        "from pyspark.sql import functions\n",
        "from pyspark.sql.types import StructType, StructField, StringType\n"
      ]
    },
    {
      "cell_type": "markdown",
      "source": [
        "#Installing and Upgrading Spark, importing Libraries and Mounting Google Drive"
      ],
      "metadata": {
        "id": "8XzFNOSebXj4"
      }
    },
    {
      "cell_type": "code",
      "execution_count": 2,
      "metadata": {
        "colab": {
          "base_uri": "https://localhost:8080/"
        },
        "id": "b8tcBacMSW38",
        "outputId": "ab403365-796e-47cb-b00c-23799fb93899"
      },
      "outputs": [
        {
          "output_type": "stream",
          "name": "stdout",
          "text": [
            "Reading package lists... Done\n",
            "Building dependency tree... Done\n",
            "Reading state information... Done\n",
            "Calculating upgrade... Done\n",
            "The following packages were automatically installed and are no longer required:\n",
            "  linux-headers-5.15.0-112 linux-headers-5.15.0-112-generic\n",
            "Use 'apt autoremove' to remove them.\n",
            "The following NEW packages will be installed:\n",
            "  linux-headers-5.15.0-113 linux-headers-5.15.0-113-generic\n",
            "The following packages have been kept back:\n",
            "  libcudnn8 libcudnn8-dev libnccl-dev libnccl2\n",
            "The following packages will be upgraded:\n",
            "  base-files bash binutils binutils-common binutils-x86-64-linux-gnu bsdutils coreutils\n",
            "  cuda-compat-12-2 cuda-keyring cuda-toolkit-12-config-common cuda-toolkit-config-common dpkg\n",
            "  dpkg-dev libbinutils libblkid1 libc-bin libctf-nobfd0 libctf0 libdpkg-perl libgnutls30\n",
            "  libldap-2.5-0 libmount1 libpam-modules libpam-modules-bin libpam-runtime libpam0g libperl5.34\n",
            "  libprocps8 libsmartcols1 libssl-dev libssl3 libudev1 linux-headers-generic linux-libc-dev login\n",
            "  mount openssl passwd perl perl-base perl-modules-5.34 procps tar util-linux wget\n",
            "45 upgraded, 2 newly installed, 0 to remove and 4 not upgraded.\n",
            "Need to get 79.5 MB of archives.\n",
            "After this operation, 103 MB of additional disk space will be used.\n",
            "Get:1 https://developer.download.nvidia.com/compute/cuda/repos/ubuntu2204/x86_64  cuda-compat-12-2 535.183.01-1 [33.6 MB]\n",
            "Get:2 http://archive.ubuntu.com/ubuntu jammy-updates/main amd64 base-files amd64 12ubuntu4.6 [62.5 kB]\n",
            "Get:3 http://archive.ubuntu.com/ubuntu jammy-updates/main amd64 bash amd64 5.1-6ubuntu1.1 [769 kB]\n",
            "Get:4 http://archive.ubuntu.com/ubuntu jammy-updates/main amd64 bsdutils amd64 1:2.37.2-4ubuntu3.4 [80.9 kB]\n",
            "Get:5 http://archive.ubuntu.com/ubuntu jammy-updates/main amd64 coreutils amd64 8.32-4.1ubuntu1.2 [1,437 kB]\n",
            "Get:6 http://archive.ubuntu.com/ubuntu jammy-updates/main amd64 tar amd64 1.34+dfsg-1ubuntu0.1.22.04.2 [295 kB]\n",
            "Get:7 http://archive.ubuntu.com/ubuntu jammy-updates/main amd64 dpkg amd64 1.21.1ubuntu2.3 [1,239 kB]\n",
            "Get:8 https://developer.download.nvidia.com/compute/cuda/repos/ubuntu2204/x86_64  cuda-keyring 1.1-1 [4,332 B]\n",
            "Get:9 https://developer.download.nvidia.com/compute/cuda/repos/ubuntu2204/x86_64  cuda-toolkit-12-config-common 12.5.39-1 [16.5 kB]\n",
            "Get:10 https://developer.download.nvidia.com/compute/cuda/repos/ubuntu2204/x86_64  cuda-toolkit-config-common 12.5.39-1 [16.5 kB]\n",
            "Get:11 http://archive.ubuntu.com/ubuntu jammy-updates/main amd64 login amd64 1:4.8.1-2ubuntu2.2 [188 kB]\n",
            "Get:12 http://archive.ubuntu.com/ubuntu jammy-updates/main amd64 libperl5.34 amd64 5.34.0-3ubuntu1.3 [4,820 kB]\n",
            "Get:13 http://archive.ubuntu.com/ubuntu jammy-updates/main amd64 perl amd64 5.34.0-3ubuntu1.3 [232 kB]\n",
            "Get:14 http://archive.ubuntu.com/ubuntu jammy-updates/main amd64 perl-base amd64 5.34.0-3ubuntu1.3 [1,762 kB]\n",
            "Get:15 http://archive.ubuntu.com/ubuntu jammy-updates/main amd64 perl-modules-5.34 all 5.34.0-3ubuntu1.3 [2,976 kB]\n",
            "Get:16 http://archive.ubuntu.com/ubuntu jammy-updates/main amd64 util-linux amd64 2.37.2-4ubuntu3.4 [1,063 kB]\n",
            "Get:17 http://archive.ubuntu.com/ubuntu jammy-updates/main amd64 libc-bin amd64 2.35-0ubuntu3.8 [706 kB]\n",
            "Get:18 http://archive.ubuntu.com/ubuntu jammy-updates/main amd64 libpam0g amd64 1.4.0-11ubuntu2.4 [60.2 kB]\n",
            "Get:19 http://archive.ubuntu.com/ubuntu jammy-updates/main amd64 libpam-modules-bin amd64 1.4.0-11ubuntu2.4 [37.6 kB]\n",
            "Get:20 http://archive.ubuntu.com/ubuntu jammy-updates/main amd64 libpam-modules amd64 1.4.0-11ubuntu2.4 [280 kB]\n",
            "Get:21 http://archive.ubuntu.com/ubuntu jammy-updates/main amd64 mount amd64 2.37.2-4ubuntu3.4 [114 kB]\n",
            "Get:22 http://archive.ubuntu.com/ubuntu jammy-updates/main amd64 libblkid1 amd64 2.37.2-4ubuntu3.4 [103 kB]\n",
            "Get:23 http://archive.ubuntu.com/ubuntu jammy-updates/main amd64 libmount1 amd64 2.37.2-4ubuntu3.4 [122 kB]\n",
            "Get:24 http://archive.ubuntu.com/ubuntu jammy-updates/main amd64 libpam-runtime all 1.4.0-11ubuntu2.4 [40.3 kB]\n",
            "Get:25 http://archive.ubuntu.com/ubuntu jammy-updates/main amd64 libsmartcols1 amd64 2.37.2-4ubuntu3.4 [50.9 kB]\n",
            "Get:26 http://archive.ubuntu.com/ubuntu jammy-updates/main amd64 libssl-dev amd64 3.0.2-0ubuntu1.16 [2,375 kB]\n",
            "Get:27 http://archive.ubuntu.com/ubuntu jammy-updates/main amd64 libssl3 amd64 3.0.2-0ubuntu1.16 [1,905 kB]\n",
            "Get:28 http://archive.ubuntu.com/ubuntu jammy-updates/main amd64 libudev1 amd64 249.11-0ubuntu3.12 [78.2 kB]\n",
            "Get:29 http://archive.ubuntu.com/ubuntu jammy-updates/main amd64 passwd amd64 1:4.8.1-2ubuntu2.2 [768 kB]\n",
            "Get:30 http://archive.ubuntu.com/ubuntu jammy-updates/main amd64 libgnutls30 amd64 3.7.3-4ubuntu1.5 [966 kB]\n",
            "Get:31 http://archive.ubuntu.com/ubuntu jammy-updates/main amd64 libprocps8 amd64 2:3.3.17-6ubuntu2.1 [36.2 kB]\n",
            "Get:32 http://archive.ubuntu.com/ubuntu jammy-updates/main amd64 procps amd64 2:3.3.17-6ubuntu2.1 [378 kB]\n",
            "Get:33 http://archive.ubuntu.com/ubuntu jammy-updates/main amd64 openssl amd64 3.0.2-0ubuntu1.16 [1,186 kB]\n",
            "Get:34 http://archive.ubuntu.com/ubuntu jammy-updates/main amd64 wget amd64 1.21.2-2ubuntu1.1 [339 kB]\n",
            "Get:35 http://archive.ubuntu.com/ubuntu jammy-updates/main amd64 libctf0 amd64 2.38-4ubuntu2.6 [103 kB]\n",
            "Get:36 http://archive.ubuntu.com/ubuntu jammy-updates/main amd64 libctf-nobfd0 amd64 2.38-4ubuntu2.6 [108 kB]\n",
            "Get:37 http://archive.ubuntu.com/ubuntu jammy-updates/main amd64 binutils-x86-64-linux-gnu amd64 2.38-4ubuntu2.6 [2,326 kB]\n",
            "Get:38 http://archive.ubuntu.com/ubuntu jammy-updates/main amd64 libbinutils amd64 2.38-4ubuntu2.6 [662 kB]\n",
            "Get:39 http://archive.ubuntu.com/ubuntu jammy-updates/main amd64 binutils amd64 2.38-4ubuntu2.6 [3,200 B]\n",
            "Get:40 http://archive.ubuntu.com/ubuntu jammy-updates/main amd64 binutils-common amd64 2.38-4ubuntu2.6 [222 kB]\n",
            "Get:41 http://archive.ubuntu.com/ubuntu jammy-updates/main amd64 dpkg-dev all 1.21.1ubuntu2.3 [922 kB]\n",
            "Get:42 http://archive.ubuntu.com/ubuntu jammy-updates/main amd64 libdpkg-perl all 1.21.1ubuntu2.3 [237 kB]\n",
            "Get:43 http://archive.ubuntu.com/ubuntu jammy-updates/main amd64 libldap-2.5-0 amd64 2.5.17+dfsg-0ubuntu0.22.04.1 [183 kB]\n",
            "Get:44 http://archive.ubuntu.com/ubuntu jammy-updates/main amd64 linux-headers-5.15.0-113 all 5.15.0-113.123 [12.3 MB]\n",
            "Get:45 http://archive.ubuntu.com/ubuntu jammy-updates/main amd64 linux-headers-5.15.0-113-generic amd64 5.15.0-113.123 [2,895 kB]\n",
            "Get:46 http://archive.ubuntu.com/ubuntu jammy-updates/main amd64 linux-headers-generic amd64 5.15.0.113.113 [2,346 B]\n",
            "Get:47 http://archive.ubuntu.com/ubuntu jammy-updates/main amd64 linux-libc-dev amd64 5.15.0-113.123 [1,342 kB]\n",
            "Fetched 79.5 MB in 2s (36.3 MB/s)\n",
            "Extracting templates from packages: 100%\n",
            "Preconfiguring packages ...\n",
            "(Reading database ... 122274 files and directories currently installed.)\n",
            "Preparing to unpack .../base-files_12ubuntu4.6_amd64.deb ...\n",
            "Unpacking base-files (12ubuntu4.6) over (12ubuntu4.4) ...\n",
            "Setting up base-files (12ubuntu4.6) ...\n",
            "Installing new version of config file /etc/issue ...\n",
            "Installing new version of config file /etc/issue.net ...\n",
            "Installing new version of config file /etc/lsb-release ...\n",
            "Installing new version of config file /etc/update-motd.d/10-help-text ...\n",
            "(Reading database ... 122274 files and directories currently installed.)\n",
            "Preparing to unpack .../bash_5.1-6ubuntu1.1_amd64.deb ...\n",
            "Unpacking bash (5.1-6ubuntu1.1) over (5.1-6ubuntu1) ...\n",
            "Setting up bash (5.1-6ubuntu1.1) ...\n",
            "update-alternatives: using /usr/share/man/man7/bash-builtins.7.gz to provide /usr/share/man/man7/builtins.7.gz (builtins.7.gz) in auto mode\n",
            "(Reading database ... 122274 files and directories currently installed.)\n",
            "Preparing to unpack .../bsdutils_1%3a2.37.2-4ubuntu3.4_amd64.deb ...\n",
            "Unpacking bsdutils (1:2.37.2-4ubuntu3.4) over (1:2.37.2-4ubuntu3) ...\n",
            "Setting up bsdutils (1:2.37.2-4ubuntu3.4) ...\n",
            "(Reading database ... 122274 files and directories currently installed.)\n",
            "Preparing to unpack .../coreutils_8.32-4.1ubuntu1.2_amd64.deb ...\n",
            "Unpacking coreutils (8.32-4.1ubuntu1.2) over (8.32-4.1ubuntu1) ...\n",
            "Setting up coreutils (8.32-4.1ubuntu1.2) ...\n",
            "(Reading database ... 122274 files and directories currently installed.)\n",
            "Preparing to unpack .../tar_1.34+dfsg-1ubuntu0.1.22.04.2_amd64.deb ...\n",
            "Unpacking tar (1.34+dfsg-1ubuntu0.1.22.04.2) over (1.34+dfsg-1ubuntu0.1.22.04.1) ...\n",
            "Setting up tar (1.34+dfsg-1ubuntu0.1.22.04.2) ...\n",
            "update-alternatives: warning: forcing reinstallation of alternative /usr/sbin/rmt-tar because link group rmt is broken\n",
            "(Reading database ... 122274 files and directories currently installed.)\n",
            "Preparing to unpack .../dpkg_1.21.1ubuntu2.3_amd64.deb ...\n",
            "Unpacking dpkg (1.21.1ubuntu2.3) over (1.21.1ubuntu2.2) ...\n",
            "Setting up dpkg (1.21.1ubuntu2.3) ...\n",
            "(Reading database ... 122274 files and directories currently installed.)\n",
            "Preparing to unpack .../login_1%3a4.8.1-2ubuntu2.2_amd64.deb ...\n",
            "Unpacking login (1:4.8.1-2ubuntu2.2) over (1:4.8.1-2ubuntu2.1) ...\n",
            "Setting up login (1:4.8.1-2ubuntu2.2) ...\n",
            "(Reading database ... 122274 files and directories currently installed.)\n",
            "Preparing to unpack .../libperl5.34_5.34.0-3ubuntu1.3_amd64.deb ...\n",
            "Unpacking libperl5.34:amd64 (5.34.0-3ubuntu1.3) over (5.34.0-3ubuntu1.2) ...\n",
            "Preparing to unpack .../perl_5.34.0-3ubuntu1.3_amd64.deb ...\n",
            "Unpacking perl (5.34.0-3ubuntu1.3) over (5.34.0-3ubuntu1.2) ...\n",
            "Preparing to unpack .../perl-base_5.34.0-3ubuntu1.3_amd64.deb ...\n",
            "Unpacking perl-base (5.34.0-3ubuntu1.3) over (5.34.0-3ubuntu1.2) ...\n",
            "Setting up perl-base (5.34.0-3ubuntu1.3) ...\n",
            "(Reading database ... 122274 files and directories currently installed.)\n",
            "Preparing to unpack .../perl-modules-5.34_5.34.0-3ubuntu1.3_all.deb ...\n",
            "Unpacking perl-modules-5.34 (5.34.0-3ubuntu1.3) over (5.34.0-3ubuntu1.2) ...\n",
            "Preparing to unpack .../util-linux_2.37.2-4ubuntu3.4_amd64.deb ...\n",
            "Unpacking util-linux (2.37.2-4ubuntu3.4) over (2.37.2-4ubuntu3) ...\n",
            "Setting up util-linux (2.37.2-4ubuntu3.4) ...\n",
            "(Reading database ... 122274 files and directories currently installed.)\n",
            "Preparing to unpack .../libc-bin_2.35-0ubuntu3.8_amd64.deb ...\n",
            "Unpacking libc-bin (2.35-0ubuntu3.8) over (2.35-0ubuntu3.4) ...\n",
            "Setting up libc-bin (2.35-0ubuntu3.8) ...\n",
            "/sbin/ldconfig.real: /usr/local/lib/libtbbbind_2_5.so.3 is not a symbolic link\n",
            "\n",
            "/sbin/ldconfig.real: /usr/local/lib/libtbbmalloc.so.2 is not a symbolic link\n",
            "\n",
            "/sbin/ldconfig.real: /usr/local/lib/libtbbbind_2_0.so.3 is not a symbolic link\n",
            "\n",
            "/sbin/ldconfig.real: /usr/local/lib/libtbbmalloc_proxy.so.2 is not a symbolic link\n",
            "\n",
            "/sbin/ldconfig.real: /usr/local/lib/libtbbbind.so.3 is not a symbolic link\n",
            "\n",
            "/sbin/ldconfig.real: /usr/local/lib/libtbb.so.12 is not a symbolic link\n",
            "\n",
            "(Reading database ... 122274 files and directories currently installed.)\n",
            "Preparing to unpack .../libpam0g_1.4.0-11ubuntu2.4_amd64.deb ...\n",
            "Unpacking libpam0g:amd64 (1.4.0-11ubuntu2.4) over (1.4.0-11ubuntu2.3) ...\n",
            "Setting up libpam0g:amd64 (1.4.0-11ubuntu2.4) ...\n",
            "(Reading database ... 122274 files and directories currently installed.)\n",
            "Preparing to unpack .../libpam-modules-bin_1.4.0-11ubuntu2.4_amd64.deb ...\n",
            "Unpacking libpam-modules-bin (1.4.0-11ubuntu2.4) over (1.4.0-11ubuntu2.3) ...\n",
            "Setting up libpam-modules-bin (1.4.0-11ubuntu2.4) ...\n",
            "(Reading database ... 122274 files and directories currently installed.)\n",
            "Preparing to unpack .../libpam-modules_1.4.0-11ubuntu2.4_amd64.deb ...\n",
            "Unpacking libpam-modules:amd64 (1.4.0-11ubuntu2.4) over (1.4.0-11ubuntu2.3) ...\n",
            "Setting up libpam-modules:amd64 (1.4.0-11ubuntu2.4) ...\n",
            "(Reading database ... 122274 files and directories currently installed.)\n",
            "Preparing to unpack .../mount_2.37.2-4ubuntu3.4_amd64.deb ...\n",
            "Unpacking mount (2.37.2-4ubuntu3.4) over (2.37.2-4ubuntu3) ...\n",
            "Preparing to unpack .../libblkid1_2.37.2-4ubuntu3.4_amd64.deb ...\n",
            "Unpacking libblkid1:amd64 (2.37.2-4ubuntu3.4) over (2.37.2-4ubuntu3) ...\n",
            "Setting up libblkid1:amd64 (2.37.2-4ubuntu3.4) ...\n",
            "(Reading database ... 122274 files and directories currently installed.)\n",
            "Preparing to unpack .../libmount1_2.37.2-4ubuntu3.4_amd64.deb ...\n",
            "Unpacking libmount1:amd64 (2.37.2-4ubuntu3.4) over (2.37.2-4ubuntu3) ...\n",
            "Setting up libmount1:amd64 (2.37.2-4ubuntu3.4) ...\n",
            "(Reading database ... 122274 files and directories currently installed.)\n",
            "Preparing to unpack .../libpam-runtime_1.4.0-11ubuntu2.4_all.deb ...\n",
            "Unpacking libpam-runtime (1.4.0-11ubuntu2.4) over (1.4.0-11ubuntu2.3) ...\n",
            "Setting up libpam-runtime (1.4.0-11ubuntu2.4) ...\n",
            "(Reading database ... 122274 files and directories currently installed.)\n",
            "Preparing to unpack .../libsmartcols1_2.37.2-4ubuntu3.4_amd64.deb ...\n",
            "Unpacking libsmartcols1:amd64 (2.37.2-4ubuntu3.4) over (2.37.2-4ubuntu3) ...\n",
            "Setting up libsmartcols1:amd64 (2.37.2-4ubuntu3.4) ...\n",
            "(Reading database ... 122274 files and directories currently installed.)\n",
            "Preparing to unpack .../libssl-dev_3.0.2-0ubuntu1.16_amd64.deb ...\n",
            "Unpacking libssl-dev:amd64 (3.0.2-0ubuntu1.16) over (3.0.2-0ubuntu1.15) ...\n",
            "Preparing to unpack .../libssl3_3.0.2-0ubuntu1.16_amd64.deb ...\n",
            "Unpacking libssl3:amd64 (3.0.2-0ubuntu1.16) over (3.0.2-0ubuntu1.15) ...\n",
            "Setting up libssl3:amd64 (3.0.2-0ubuntu1.16) ...\n",
            "(Reading database ... 122274 files and directories currently installed.)\n",
            "Preparing to unpack .../libudev1_249.11-0ubuntu3.12_amd64.deb ...\n",
            "Unpacking libudev1:amd64 (249.11-0ubuntu3.12) over (249.11-0ubuntu3.10) ...\n",
            "Setting up libudev1:amd64 (249.11-0ubuntu3.12) ...\n",
            "(Reading database ... 122274 files and directories currently installed.)\n",
            "Preparing to unpack .../passwd_1%3a4.8.1-2ubuntu2.2_amd64.deb ...\n",
            "Unpacking passwd (1:4.8.1-2ubuntu2.2) over (1:4.8.1-2ubuntu2.1) ...\n",
            "Setting up passwd (1:4.8.1-2ubuntu2.2) ...\n",
            "(Reading database ... 122274 files and directories currently installed.)\n",
            "Preparing to unpack .../libgnutls30_3.7.3-4ubuntu1.5_amd64.deb ...\n",
            "Unpacking libgnutls30:amd64 (3.7.3-4ubuntu1.5) over (3.7.3-4ubuntu1.2) ...\n",
            "Setting up libgnutls30:amd64 (3.7.3-4ubuntu1.5) ...\n",
            "(Reading database ... 122274 files and directories currently installed.)\n",
            "Preparing to unpack .../00-libprocps8_2%3a3.3.17-6ubuntu2.1_amd64.deb ...\n",
            "Unpacking libprocps8:amd64 (2:3.3.17-6ubuntu2.1) over (2:3.3.17-6ubuntu2) ...\n",
            "Preparing to unpack .../01-procps_2%3a3.3.17-6ubuntu2.1_amd64.deb ...\n",
            "Unpacking procps (2:3.3.17-6ubuntu2.1) over (2:3.3.17-6ubuntu2) ...\n",
            "Preparing to unpack .../02-openssl_3.0.2-0ubuntu1.16_amd64.deb ...\n",
            "Unpacking openssl (3.0.2-0ubuntu1.16) over (3.0.2-0ubuntu1.12) ...\n",
            "Preparing to unpack .../03-wget_1.21.2-2ubuntu1.1_amd64.deb ...\n",
            "Unpacking wget (1.21.2-2ubuntu1.1) over (1.21.2-2ubuntu1) ...\n",
            "Preparing to unpack .../04-libctf0_2.38-4ubuntu2.6_amd64.deb ...\n",
            "Unpacking libctf0:amd64 (2.38-4ubuntu2.6) over (2.38-4ubuntu2.3) ...\n",
            "Preparing to unpack .../05-libctf-nobfd0_2.38-4ubuntu2.6_amd64.deb ...\n",
            "Unpacking libctf-nobfd0:amd64 (2.38-4ubuntu2.6) over (2.38-4ubuntu2.3) ...\n",
            "Preparing to unpack .../06-binutils-x86-64-linux-gnu_2.38-4ubuntu2.6_amd64.deb ...\n",
            "Unpacking binutils-x86-64-linux-gnu (2.38-4ubuntu2.6) over (2.38-4ubuntu2.3) ...\n",
            "Preparing to unpack .../07-libbinutils_2.38-4ubuntu2.6_amd64.deb ...\n",
            "Unpacking libbinutils:amd64 (2.38-4ubuntu2.6) over (2.38-4ubuntu2.3) ...\n",
            "Preparing to unpack .../08-binutils_2.38-4ubuntu2.6_amd64.deb ...\n",
            "Unpacking binutils (2.38-4ubuntu2.6) over (2.38-4ubuntu2.3) ...\n",
            "Preparing to unpack .../09-binutils-common_2.38-4ubuntu2.6_amd64.deb ...\n",
            "Unpacking binutils-common:amd64 (2.38-4ubuntu2.6) over (2.38-4ubuntu2.3) ...\n",
            "Preparing to unpack .../10-cuda-compat-12-2_535.183.01-1_amd64.deb ...\n",
            "Unpacking cuda-compat-12-2 (535.183.01-1) over (535.129.03-1) ...\n",
            "Preparing to unpack .../11-cuda-keyring_1.1-1_all.deb ...\n",
            "Unpacking cuda-keyring (1.1-1) over (1.0-1) ...\n",
            "Preparing to unpack .../12-cuda-toolkit-12-config-common_12.5.39-1_all.deb ...\n",
            "Unpacking cuda-toolkit-12-config-common (12.5.39-1) over (12.3.52-1) ...\n",
            "Preparing to unpack .../13-cuda-toolkit-config-common_12.5.39-1_all.deb ...\n",
            "Unpacking cuda-toolkit-config-common (12.5.39-1) over (12.3.52-1) ...\n",
            "Preparing to unpack .../14-dpkg-dev_1.21.1ubuntu2.3_all.deb ...\n",
            "Unpacking dpkg-dev (1.21.1ubuntu2.3) over (1.21.1ubuntu2.2) ...\n",
            "Preparing to unpack .../15-libdpkg-perl_1.21.1ubuntu2.3_all.deb ...\n",
            "Unpacking libdpkg-perl (1.21.1ubuntu2.3) over (1.21.1ubuntu2.2) ...\n",
            "Preparing to unpack .../16-libldap-2.5-0_2.5.17+dfsg-0ubuntu0.22.04.1_amd64.deb ...\n",
            "Unpacking libldap-2.5-0:amd64 (2.5.17+dfsg-0ubuntu0.22.04.1) over (2.5.16+dfsg-0ubuntu0.22.04.1) ...\n",
            "Selecting previously unselected package linux-headers-5.15.0-113.\n",
            "Preparing to unpack .../17-linux-headers-5.15.0-113_5.15.0-113.123_all.deb ...\n",
            "Unpacking linux-headers-5.15.0-113 (5.15.0-113.123) ...\n",
            "Selecting previously unselected package linux-headers-5.15.0-113-generic.\n",
            "Preparing to unpack .../18-linux-headers-5.15.0-113-generic_5.15.0-113.123_amd64.deb ...\n",
            "Unpacking linux-headers-5.15.0-113-generic (5.15.0-113.123) ...\n",
            "Preparing to unpack .../19-linux-headers-generic_5.15.0.113.113_amd64.deb ...\n",
            "Unpacking linux-headers-generic (5.15.0.113.113) over (5.15.0.112.112) ...\n",
            "Preparing to unpack .../20-linux-libc-dev_5.15.0-113.123_amd64.deb ...\n",
            "Unpacking linux-libc-dev:amd64 (5.15.0-113.123) over (5.15.0-88.98) ...\n",
            "Setting up cuda-toolkit-config-common (12.5.39-1) ...\n",
            "Setting up cuda-compat-12-2 (535.183.01-1) ...\n",
            "Setting up linux-headers-5.15.0-113 (5.15.0-113.123) ...\n",
            "Setting up wget (1.21.2-2ubuntu1.1) ...\n",
            "Setting up binutils-common:amd64 (2.38-4ubuntu2.6) ...\n",
            "Setting up linux-libc-dev:amd64 (5.15.0-113.123) ...\n",
            "Setting up libctf-nobfd0:amd64 (2.38-4ubuntu2.6) ...\n",
            "Setting up perl-modules-5.34 (5.34.0-3ubuntu1.3) ...\n",
            "Setting up libldap-2.5-0:amd64 (2.5.17+dfsg-0ubuntu0.22.04.1) ...\n",
            "Setting up cuda-keyring (1.1-1) ...\n",
            "Setting up libssl-dev:amd64 (3.0.2-0ubuntu1.16) ...\n",
            "Setting up mount (2.37.2-4ubuntu3.4) ...\n",
            "Setting up linux-headers-5.15.0-113-generic (5.15.0-113.123) ...\n",
            "Setting up libbinutils:amd64 (2.38-4ubuntu2.6) ...\n",
            "Setting up openssl (3.0.2-0ubuntu1.16) ...\n",
            "Setting up cuda-toolkit-12-config-common (12.5.39-1) ...\n",
            "Setting up libprocps8:amd64 (2:3.3.17-6ubuntu2.1) ...\n",
            "Setting up libctf0:amd64 (2.38-4ubuntu2.6) ...\n",
            "Setting up libperl5.34:amd64 (5.34.0-3ubuntu1.3) ...\n",
            "Setting up linux-headers-generic (5.15.0.113.113) ...\n",
            "Setting up perl (5.34.0-3ubuntu1.3) ...\n",
            "Setting up libdpkg-perl (1.21.1ubuntu2.3) ...\n",
            "Setting up procps (2:3.3.17-6ubuntu2.1) ...\n",
            "Setting up binutils-x86-64-linux-gnu (2.38-4ubuntu2.6) ...\n",
            "Setting up binutils (2.38-4ubuntu2.6) ...\n",
            "Setting up dpkg-dev (1.21.1ubuntu2.3) ...\n",
            "Processing triggers for man-db (2.10.2-1) ...\n",
            "Processing triggers for libc-bin (2.35-0ubuntu3.8) ...\n",
            "/sbin/ldconfig.real: /usr/local/lib/libtbbbind_2_5.so.3 is not a symbolic link\n",
            "\n",
            "/sbin/ldconfig.real: /usr/local/lib/libtbbmalloc.so.2 is not a symbolic link\n",
            "\n",
            "/sbin/ldconfig.real: /usr/local/lib/libtbbbind_2_0.so.3 is not a symbolic link\n",
            "\n",
            "/sbin/ldconfig.real: /usr/local/lib/libtbbmalloc_proxy.so.2 is not a symbolic link\n",
            "\n",
            "/sbin/ldconfig.real: /usr/local/lib/libtbbbind.so.3 is not a symbolic link\n",
            "\n",
            "/sbin/ldconfig.real: /usr/local/lib/libtbb.so.12 is not a symbolic link\n",
            "\n"
          ]
        }
      ],
      "source": [
        "# !apt update\n",
        "# !apt list --upgradable\n",
        "!apt upgrade -y"
      ]
    },
    {
      "cell_type": "code",
      "execution_count": 112,
      "metadata": {
        "id": "ogk_exnoXoqR"
      },
      "outputs": [],
      "source": [
        "spark = SparkSession.builder.appName(\"Basic\").getOrCreate()"
      ]
    },
    {
      "cell_type": "code",
      "execution_count": 113,
      "metadata": {
        "colab": {
          "base_uri": "https://localhost:8080/"
        },
        "id": "zZ7YxNOPX5rD",
        "outputId": "a463aff1-ee86-4303-bf5a-506b5445c908"
      },
      "outputs": [
        {
          "output_type": "stream",
          "name": "stdout",
          "text": [
            "Drive already mounted at /content/drive; to attempt to forcibly remount, call drive.mount(\"/content/drive\", force_remount=True).\n"
          ]
        }
      ],
      "source": [
        "from google.colab import drive\n",
        "drive.mount('/content/drive')"
      ]
    },
    {
      "cell_type": "code",
      "execution_count": 114,
      "metadata": {
        "colab": {
          "base_uri": "https://localhost:8080/"
        },
        "id": "GWzEBrF9YBC4",
        "outputId": "6bfb79ee-03fb-4b81-a68e-7f496e768240"
      },
      "outputs": [
        {
          "output_type": "stream",
          "name": "stdout",
          "text": [
            " 11.csv\t\t\t\t NORTHWND_ord.csv\t     'Spark Sql - Exercise - Full.ipynb'\n",
            " appl_stock.CSV\t\t\t NORTHWND_ord_det.csv\t     'Spark Sql.ipynb'\n",
            " churn_location_and_rating.csv\t people.json\t\t     'Sql - Questions.ipynb'\n",
            " churn_location_and_rating.txt\t sales_info.CSV\t\t      walmart_stock.csv\n",
            "'Country&Rating.csv'\t\t Spark_Part_C.ipynb\n",
            " LearningSpark.ipynb\t\t'Spark Sql - Answers.ipynb'\n"
          ]
        }
      ],
      "source": [
        "path  = '/content/drive/MyDrive/Colab Notebooks/BDA.2024-Spark/'\n",
        "!ls '/content/drive/MyDrive/Colab Notebooks/BDA.2024-Spark/'"
      ]
    },
    {
      "cell_type": "code",
      "execution_count": 115,
      "metadata": {
        "colab": {
          "base_uri": "https://localhost:8080/"
        },
        "id": "hbaqTjt0YrJA",
        "outputId": "2b0ea428-264b-43ce-c999-67df4ea9a9c5"
      },
      "outputs": [
        {
          "output_type": "stream",
          "name": "stdout",
          "text": [
            "Requirement already satisfied: pycountry in /usr/local/lib/python3.10/dist-packages (24.6.1)\n"
          ]
        }
      ],
      "source": [
        "from pyspark.sql.types import (StructField, IntegerType, StringType, StructType)\n",
        "from pyspark.sql.functions import when\n",
        "from pyspark.sql.functions import countDistinct, avg,count,sum,col\n",
        "from pyspark.sql.functions import format_number\n",
        "from pyspark.sql.functions import split, col, trim, regexp_replace, length, udf, concat\n",
        "from pyspark.sql.types import StringType\n",
        "from pyspark.sql.functions import regexp_replace, initcap\n",
        "\n",
        "!pip install pycountry\n",
        "import pycountry"
      ]
    },
    {
      "cell_type": "markdown",
      "source": [
        "#Fetching and Manipulating the Data"
      ],
      "metadata": {
        "id": "LMGsOUWPaHCM"
      }
    },
    {
      "cell_type": "code",
      "execution_count": 116,
      "metadata": {
        "colab": {
          "base_uri": "https://localhost:8080/"
        },
        "id": "e6ZG9B50YuEV",
        "outputId": "f707388e-74c0-4b46-c138-75312611a92d"
      },
      "outputs": [
        {
          "output_type": "stream",
          "name": "stdout",
          "text": [
            "+--------------------------+\n",
            "|customerID;Location;Rating|\n",
            "+--------------------------+\n",
            "|      \"id7044;nyc; new ...|\n",
            "|      \"id7045;stockton;...|\n",
            "|      \"id7046;moscow; y...|\n",
            "|      \"id7047;porto; v....|\n",
            "|      \"id7048;farnborou...|\n",
            "|      \"id7049;santa mon...|\n",
            "|      \"id7050;washingto...|\n",
            "|      \"id7051;timmins; ...|\n",
            "|      \"id7052;germantow...|\n",
            "|      \"id7053;albacete;...|\n",
            "|      \"id7054;melbourne...|\n",
            "|      \"id7055;fort brag...|\n",
            "|      \"id7056;barcelona...|\n",
            "|      \"id7057;mediapoli...|\n",
            "|      \"id7058;calgary; ...|\n",
            "|      \"id7059;albuquerq...|\n",
            "|      \"id7060;chesapeak...|\n",
            "|      \"id7061;rio de ja...|\n",
            "|      \"id7062;weston; ;...|\n",
            "|      \"id7063;langhorne...|\n",
            "+--------------------------+\n",
            "only showing top 20 rows\n",
            "\n"
          ]
        }
      ],
      "source": [
        "datapath = path + '/churn_location_and_rating.csv'\n",
        "df = spark.read.csv(datapath,inferSchema=True,header = True)\n",
        "df.show()"
      ]
    },
    {
      "cell_type": "code",
      "execution_count": 117,
      "metadata": {
        "colab": {
          "base_uri": "https://localhost:8080/"
        },
        "id": "KOfPBJ9zZHXN",
        "outputId": "f91127c8-a040-4a6f-cdba-c116dcde5cf7"
      },
      "outputs": [
        {
          "output_type": "stream",
          "name": "stdout",
          "text": [
            "+--------------------+------------------+------+\n",
            "|          customerID|          Location|Rating|\n",
            "+--------------------+------------------+------+\n",
            "|\"id7044;nyc; new ...|            usa\"\"\"|  NULL|\n",
            "|\"id7045;stockton;...|            usa\"\"\"|  NULL|\n",
            "|\"id7046;moscow; y...|         russia\"\"\"|  NULL|\n",
            "|\"id7047;porto; v....|       portugal\"\"\"|  NULL|\n",
            "|\"id7048;farnborou...| united kingdom\"\"\"|  NULL|\n",
            "|\"id7049;santa mon...|            usa\"\"\"|  NULL|\n",
            "|\"id7050;washingto...|            usa\"\"\"|  NULL|\n",
            "|\"id7051;timmins; ...|         canada\"\"\"|  NULL|\n",
            "|\"id7052;germantow...|            usa\"\"\"|  NULL|\n",
            "|\"id7053;albacete;...|          spain\"\"\"|  NULL|\n",
            "|\"id7054;melbourne...|      australia\"\"\"|  NULL|\n",
            "|\"id7055;fort brag...|            usa\"\"\"|  NULL|\n",
            "|\"id7056;barcelona...|          spain\"\"\"|  NULL|\n",
            "|\"id7057;mediapoli...|            usa\"\"\"|  NULL|\n",
            "|\"id7058;calgary; ...|         canada\"\"\"|  NULL|\n",
            "|\"id7059;albuquerq...|            usa\"\"\"|  NULL|\n",
            "|\"id7060;chesapeak...|            usa\"\"\"|  NULL|\n",
            "|\"id7061;rio de ja...|         brazil\"\"\"|  NULL|\n",
            "|\"id7062;weston; ;...|                 \"|  NULL|\n",
            "|\"id7063;langhorne...|            usa\"\"\"|  NULL|\n",
            "+--------------------+------------------+------+\n",
            "only showing top 20 rows\n",
            "\n"
          ]
        }
      ],
      "source": [
        "df = spark.read.option(\"delimiter\", \";\").option(\"header\", True).csv(datapath)\n",
        "df.show(truncate=True)"
      ]
    },
    {
      "cell_type": "code",
      "execution_count": 118,
      "metadata": {
        "colab": {
          "base_uri": "https://localhost:8080/"
        },
        "id": "OC8AR3rQaOh1",
        "outputId": "53ed8f24-fc07-4b28-d9e4-31b027bc7021"
      },
      "outputs": [
        {
          "output_type": "stream",
          "name": "stdout",
          "text": [
            "+----------+---------------+----------------+--------------+------+\n",
            "|customerID|Country        |State           |City          |Rating|\n",
            "+----------+---------------+----------------+--------------+------+\n",
            "|id7044    | usa           | new york       |nyc           |9.0   |\n",
            "|id7045    | usa           | california     |stockton      |5.0   |\n",
            "|id7046    | russia        | yukon territory|moscow        |5.0   |\n",
            "|id7047    | portugal      | vngaia         |porto         |9.0   |\n",
            "|id7048    | united kingdom| hants          |farnborough   |8.0   |\n",
            "|id7049    | usa           | california     |santa monica  |10.0  |\n",
            "|id7050    | usa           | dc             |washington    |3.0   |\n",
            "|id7051    | canada        | ontario        |timmins       |2.0   |\n",
            "|id7052    | usa           | tennessee      |germantown    |10.0  |\n",
            "|id7053    | spain         | wisconsin      |albacete      |10.0  |\n",
            "|id7054    | australia     | victoria       |melbourne     |3.0   |\n",
            "|id7055    | usa           | california     |fort bragg    |6.0   |\n",
            "|id7056    | spain         | barcelona      |barcelona     |5.0   |\n",
            "|id7057    | usa           | iowa           |mediapolis    |5.0   |\n",
            "|id7058    | canada        | alberta        |calgary       |6.0   |\n",
            "|id7059    | usa           | new mexico     |albuquerque   |9.0   |\n",
            "|id7060    | usa           | virginia       |chesapeake    |6.0   |\n",
            "|id7061    | brazil        | rio de janeiro |rio de janeiro|8.0   |\n",
            "|id7062    |               |                |weston        |3.0   |\n",
            "|id7063    | usa           | pennsylvania   |langhorne     |5.0   |\n",
            "+----------+---------------+----------------+--------------+------+\n",
            "only showing top 20 rows\n",
            "\n"
          ]
        }
      ],
      "source": [
        "from pyspark.sql.functions import split, col, trim, regexp_replace, length, udf, concat\n",
        "spark = SparkSession.builder.appName(\"CSV Parsing\").getOrCreate()\n",
        "\n",
        "datapath = datapath\n",
        "df = spark.read.text(datapath)\n",
        "\n",
        "df = df.withColumn('value', trim(regexp_replace('value', '[\"]', '')))\n",
        "\n",
        "split_cols = split(df['value'], ';')\n",
        "\n",
        "df = df.select(\n",
        "    split_cols.getItem(0).alias('customerID'),\n",
        "    split_cols.getItem(4).alias('Country'),\n",
        "    split_cols.getItem(2).alias('State'),\n",
        "    split_cols.getItem(1).alias('City'),\n",
        "    split_cols.getItem(3).alias('Rating')\n",
        ")\n",
        "df = df.filter(df['customerID'] != 'customerID')\n",
        "df = df.withColumn('Country', regexp_replace(col('Country'), r'[^\\sa-zA-Z]', ''))\n",
        "df = df.withColumn('State', regexp_replace(col('State'), r'[^\\sa-zA-Z]', ''))\n",
        "df = df.withColumn('City', regexp_replace(col('City'), r'[^\\sa-zA-Z]', ''))\n",
        "df.show(truncate=False)"
      ]
    },
    {
      "cell_type": "markdown",
      "source": [],
      "metadata": {
        "id": "VudHV3ytRQZ6"
      }
    },
    {
      "cell_type": "code",
      "execution_count": 10,
      "metadata": {
        "colab": {
          "base_uri": "https://localhost:8080/"
        },
        "id": "Crp_FcqmaQ7_",
        "outputId": "8dfd9a36-e79e-42a5-b340-2b4ce1e41b3f"
      },
      "outputs": [
        {
          "output_type": "stream",
          "name": "stdout",
          "text": [
            "+---------------+-----+\n",
            "|        country|count|\n",
            "+---------------+-----+\n",
            "|            usa|11690|\n",
            "|         canada| 1771|\n",
            "|          spain| 1536|\n",
            "| united kingdom| 1528|\n",
            "|        germany| 1414|\n",
            "|          italy| 1273|\n",
            "|      australia| 1047|\n",
            "|               |  438|\n",
            "|       portugal|  407|\n",
            "|         france|  368|\n",
            "|    new zealand|  270|\n",
            "|    netherlands|  249|\n",
            "|          india|  192|\n",
            "|         brazil|  160|\n",
            "|    switzerland|  159|\n",
            "|         sweden|  145|\n",
            "|       malaysia|  131|\n",
            "|          china|  119|\n",
            "|        austria|  117|\n",
            "|      argentina|  116|\n",
            "|        belgium|   85|\n",
            "|         mexico|   81|\n",
            "|        finland|   79|\n",
            "|    philippines|   74|\n",
            "|      singapore|   74|\n",
            "|        denmark|   71|\n",
            "|        ireland|   71|\n",
            "|       pakistan|   66|\n",
            "|        romania|   62|\n",
            "|           iran|   58|\n",
            "+---------------+-----+\n",
            "only showing top 30 rows\n",
            "\n"
          ]
        }
      ],
      "source": [
        "df.groupBy(\"country\").count().orderBy(col(\"count\").desc()).show(30)"
      ]
    },
    {
      "cell_type": "code",
      "execution_count": 119,
      "metadata": {
        "id": "CNPklafpaUDe"
      },
      "outputs": [],
      "source": [
        "from pyspark.sql import SparkSession\n",
        "from pyspark.sql.functions import split, col, trim, regexp_replace"
      ]
    },
    {
      "cell_type": "markdown",
      "source": [
        "Assigning UDF's to standardize Countries, and Clean Cities and States"
      ],
      "metadata": {
        "id": "RdL22-V6aPRF"
      }
    },
    {
      "cell_type": "code",
      "execution_count": 120,
      "metadata": {
        "id": "A7ByOaqHaZXJ"
      },
      "outputs": [],
      "source": [
        "def findCountry(country_name):\n",
        "    try:\n",
        "        return pycountry.countries.get(alpha_3=country_name).name\n",
        "    except:\n",
        "        return (\"Unknown\")\n",
        "\n",
        "def findCountryFuzzy(country_name):\n",
        "    try:\n",
        "        result = pycountry.countries.search_fuzzy(country_name)\n",
        "        if result:\n",
        "            return result[0].name\n",
        "        else:\n",
        "            return \"Unknown\"\n",
        "    except:\n",
        "        return \"Unknown\"\n"
      ]
    },
    {
      "cell_type": "code",
      "execution_count": 91,
      "metadata": {
        "colab": {
          "base_uri": "https://localhost:8080/",
          "height": 35
        },
        "id": "31SSEGZHabbz",
        "outputId": "924bfde4-6c6b-4b1e-9558-893b8159678e"
      },
      "outputs": [
        {
          "output_type": "execute_result",
          "data": {
            "text/plain": [
              "'United States'"
            ],
            "application/vnd.google.colaboratory.intrinsic+json": {
              "type": "string"
            }
          },
          "metadata": {},
          "execution_count": 91
        }
      ],
      "source": [
        "findCountry(\"usa\")"
      ]
    },
    {
      "cell_type": "code",
      "execution_count": 92,
      "metadata": {
        "colab": {
          "base_uri": "https://localhost:8080/",
          "height": 35
        },
        "id": "x8TOukrjafbQ",
        "outputId": "ca4ebdf5-0fff-47d7-e37c-873f2546c43a"
      },
      "outputs": [
        {
          "output_type": "execute_result",
          "data": {
            "text/plain": [
              "'United States'"
            ],
            "application/vnd.google.colaboratory.intrinsic+json": {
              "type": "string"
            }
          },
          "metadata": {},
          "execution_count": 92
        }
      ],
      "source": [
        "findCountryFuzzy(\"United\")"
      ]
    },
    {
      "cell_type": "code",
      "execution_count": 15,
      "metadata": {
        "colab": {
          "base_uri": "https://localhost:8080/"
        },
        "id": "HKhOaoToag5u",
        "outputId": "69331d62-3916-47fb-a86a-180ebbc8ebcd"
      },
      "outputs": [
        {
          "output_type": "stream",
          "name": "stdout",
          "text": [
            "+------------------+-----+\n",
            "|Country           |cnt  |\n",
            "+------------------+-----+\n",
            "| usa              |11690|\n",
            "| australia        |1047 |\n",
            "| austria          |117  |\n",
            "| russia           |27   |\n",
            "| cyprus           |3    |\n",
            "| euskal herria    |2    |\n",
            "| belarus          |2    |\n",
            "| us of a          |1    |\n",
            "| us virgin islands|1    |\n",
            "+------------------+-----+\n",
            "\n"
          ]
        }
      ],
      "source": [
        "df.createOrReplaceTempView('tmp')\n",
        "\n",
        "spark.sql('''\n",
        "\n",
        "\n",
        "\n",
        "Select  Country,count(Country) as cnt from tmp\n",
        "where lower(country) like \"%us%\"\n",
        "group by Country\n",
        "\n",
        "order by 2 desc\n",
        "\n",
        "\n",
        "''').show(20, truncate=False)"
      ]
    },
    {
      "cell_type": "code",
      "execution_count": 121,
      "metadata": {
        "id": "ZbqjwTp1azua"
      },
      "outputs": [],
      "source": [
        "findCountryUDF = udf(lambda x:findCountryFuzzy(x),StringType())"
      ]
    },
    {
      "cell_type": "code",
      "source": [
        "from pyspark.sql.functions import regexp_replace, initcap\n",
        "\n",
        "df = df.withColumn('City', initcap(regexp_replace(col('City'), r'[^\\w\\s]', '')))\n",
        "df = df.withColumn('State', initcap(regexp_replace(col('State'), r'[^\\w\\s]', '')))\n",
        "df = df.withColumn('Country', regexp_replace(col('Country'), r'[^\\w\\s]', ''))"
      ],
      "metadata": {
        "id": "EyMhdSBb6xws"
      },
      "execution_count": 122,
      "outputs": []
    },
    {
      "cell_type": "code",
      "execution_count": 123,
      "metadata": {
        "id": "wlf2moESa1EQ"
      },
      "outputs": [],
      "source": [
        "df = df.select(\n",
        "    col(\"customerID\"),\n",
        "    col(\"Country\"),\n",
        "    col(\"City\"),\n",
        "    col(\"State\"),\n",
        "    col(\"Rating\"),\n",
        "    when((col(\"Country\")!=\"\") & (findCountryUDF(col(\"Country\")) != \"Unknown\"),\n",
        "          findCountryUDF(col(\"Country\"))).otherwise(\n",
        "        when((col(\"City\").isNotNull()) & (findCountryUDF(col(\"City\")) != \"Unknown\"),\n",
        "              findCountryUDF(col(\"City\"))).otherwise(\n",
        "            when((col(\"State\").isNotNull()) & (findCountryUDF(col(\"State\")) != \"Unknown\"),\n",
        "                  findCountryUDF(col(\"State\"))).otherwise(\"Unknown\")\n",
        "        )\n",
        "    ).alias(\"CountryNew\")\n",
        ")"
      ]
    },
    {
      "cell_type": "code",
      "source": [
        "df = df.withColumn('CountryNew', when((trim(col('Country')) == \"\") & (col('CountryNew') == \"United Kingdom\"), \"Unknown\").otherwise(col('CountryNew')))\n",
        "df = df.withColumn('City', when((trim(col('City')) == \"Na\") | (trim(col('City')) == \"\"), \"Unknown\").otherwise(col('City')))\n",
        "df = df.withColumn('State', when((trim(col('State')) == \"Na\") | (trim(col('State')) == \"\"), \"Unknown\").otherwise(col('State')))"
      ],
      "metadata": {
        "id": "6ZJdaYBcHoaz"
      },
      "execution_count": 124,
      "outputs": []
    },
    {
      "cell_type": "markdown",
      "source": [
        "Showing the Number of Uknownes after the first manipulation"
      ],
      "metadata": {
        "id": "q5db8LLaam4v"
      }
    },
    {
      "cell_type": "code",
      "execution_count": 21,
      "metadata": {
        "colab": {
          "base_uri": "https://localhost:8080/"
        },
        "id": "NFFKeyS_Rr5C",
        "outputId": "23ddcd60-e1e3-49a9-fbff-03248ab299de"
      },
      "outputs": [
        {
          "output_type": "stream",
          "name": "stdout",
          "text": [
            "+--------+-----+\n",
            "|Category|  cnt|\n",
            "+--------+-----+\n",
            "|   Known|24583|\n",
            "| Unknown|  275|\n",
            "+--------+-----+\n",
            "\n"
          ]
        }
      ],
      "source": [
        "originalstatus = df.withColumn(\"Category\",\n",
        "    when(col(\"CountryNew\") == \"Unknown\", \"Unknown\")\n",
        "    .otherwise(\"Known\")\n",
        ")\n",
        "\n",
        "\n",
        "originalstatus = originalstatus.groupBy(\"Category\")  \\\n",
        "    .agg(count(\"Country\").alias(\"cnt\")) \\\n",
        "    .orderBy(col(\"cnt\").desc())  # Order by count descending\n",
        "\n",
        "originalstatus.show(100)"
      ]
    },
    {
      "cell_type": "code",
      "execution_count": 22,
      "metadata": {
        "id": "2H0o-fWOa_Fl"
      },
      "outputs": [],
      "source": [
        "df.createOrReplaceTempView('df')"
      ]
    },
    {
      "cell_type": "code",
      "execution_count": 23,
      "metadata": {
        "colab": {
          "base_uri": "https://localhost:8080/"
        },
        "id": "YYZx_YlXbA0n",
        "outputId": "80d253e2-8173-4ab6-c5b1-f2af803ead63"
      },
      "outputs": [
        {
          "output_type": "stream",
          "name": "stdout",
          "text": [
            "+----------+---------------+--------------+----------------+------+------------------+\n",
            "|customerID|        Country|          City|           State|Rating|        CountryNew|\n",
            "+----------+---------------+--------------+----------------+------+------------------+\n",
            "|    id7044|            usa|           Nyc|        New York|   9.0|     United States|\n",
            "|    id7045|            usa|      Stockton|      California|   5.0|     United States|\n",
            "|    id7046|         russia|        Moscow| Yukon Territory|   5.0|Russian Federation|\n",
            "|    id7047|       portugal|         Porto|          Vngaia|   9.0|          Portugal|\n",
            "|    id7048| united kingdom|   Farnborough|           Hants|   8.0|    United Kingdom|\n",
            "|    id7049|            usa|  Santa Monica|      California|  10.0|     United States|\n",
            "|    id7050|            usa|    Washington|              Dc|   3.0|     United States|\n",
            "|    id7051|         canada|       Timmins|         Ontario|   2.0|            Canada|\n",
            "|    id7052|            usa|    Germantown|       Tennessee|  10.0|     United States|\n",
            "|    id7053|          spain|      Albacete|       Wisconsin|  10.0|             Spain|\n",
            "|    id7054|      australia|     Melbourne|        Victoria|   3.0|         Australia|\n",
            "|    id7055|            usa|    Fort Bragg|      California|   6.0|     United States|\n",
            "|    id7056|          spain|     Barcelona|       Barcelona|   5.0|             Spain|\n",
            "|    id7057|            usa|    Mediapolis|            Iowa|   5.0|     United States|\n",
            "|    id7058|         canada|       Calgary|         Alberta|   6.0|            Canada|\n",
            "|    id7059|            usa|   Albuquerque|      New Mexico|   9.0|     United States|\n",
            "|    id7060|            usa|    Chesapeake|        Virginia|   6.0|     United States|\n",
            "|    id7061|         brazil|Rio De Janeiro|  Rio De Janeiro|   8.0|            Brazil|\n",
            "|    id7062|               |        Weston|         Unknown|   3.0|           Unknown|\n",
            "|    id7063|            usa|     Langhorne|    Pennsylvania|   5.0|     United States|\n",
            "+----------+---------------+--------------+----------------+------+------------------+\n",
            "only showing top 20 rows\n",
            "\n"
          ]
        }
      ],
      "source": [
        "df.show()"
      ]
    },
    {
      "cell_type": "code",
      "execution_count": 24,
      "metadata": {
        "colab": {
          "base_uri": "https://localhost:8080/"
        },
        "id": "gRGEsLjQbCoZ",
        "outputId": "f3964ce1-6f52-4f83-e5ac-0dd565ee0e30"
      },
      "outputs": [
        {
          "output_type": "execute_result",
          "data": {
            "text/plain": [
              "DataFrame[customerID: string, Country: string, City: string, State: string, Rating: string, CountryNew: string]"
            ]
          },
          "metadata": {},
          "execution_count": 24
        }
      ],
      "source": [
        "df.cache()"
      ]
    },
    {
      "cell_type": "markdown",
      "source": [
        "Learning About big bulks of Unknown Countries to standardize"
      ],
      "metadata": {
        "id": "msbcIggjauNh"
      }
    },
    {
      "cell_type": "code",
      "execution_count": 25,
      "metadata": {
        "colab": {
          "base_uri": "https://localhost:8080/"
        },
        "id": "oBQqt1PobIIR",
        "outputId": "e8d0eb4c-d927-4f54-93dd-6548568138cc"
      },
      "outputs": [
        {
          "output_type": "stream",
          "name": "stdout",
          "text": [
            "+-------+----------+---+\n",
            "|Country|CountryNew|cnt|\n",
            "+-------+----------+---+\n",
            "|       |Unknown   |257|\n",
            "|       |Unknown   |3  |\n",
            "| espaa |Unknown   |2  |\n",
            "+-------+----------+---+\n",
            "\n"
          ]
        }
      ],
      "source": [
        "df.createOrReplaceTempView('df')\n",
        "\n",
        "\n",
        "spark.sql('''\n",
        "\n",
        "\n",
        "SELECT\n",
        "Country,\n",
        "CountryNew,\n",
        "count(Country) as cnt\n",
        "FROM df\n",
        "where CountryNew = 'Unknown'\n",
        "group by Country,CountryNew\n",
        "having cnt > 1\n",
        "order by 3 desc\n",
        "\n",
        "''').show(20, truncate=False)"
      ]
    },
    {
      "cell_type": "code",
      "execution_count": 26,
      "metadata": {
        "colab": {
          "base_uri": "https://localhost:8080/"
        },
        "id": "kb9XBNdSbPRi",
        "outputId": "2a81e4bb-eac6-4f91-d698-8c485108ff73"
      },
      "outputs": [
        {
          "output_type": "stream",
          "name": "stdout",
          "text": [
            "+----------+--------------------+--------------------+--------------------+-------+----------+\n",
            "|customerID|             Country|                City|               State| Rating|CountryNew|\n",
            "+----------+--------------------+--------------------+--------------------+-------+----------+\n",
            "|    id7062|                    |              Weston|             Unknown|    3.0|   Unknown|\n",
            "|    id7134|                    |    Torontonewmarket|             Unknown|    6.0|   Unknown|\n",
            "|    id7244|                 uae|             Sharjah|             Sharjah|    6.0|   Unknown|\n",
            "|    id7351|               espaa|               Getxo|     Yukon Territory|   10.0|   Unknown|\n",
            "|    id7601|                    |             Burnaby|             Unknown|   10.0|   Unknown|\n",
            "|    id7832|                    |           Pepperell|             Unknown|    6.0|   Unknown|\n",
            "|    id7906|   somewherein space|               Space|               Space|    6.0|   Unknown|\n",
            "|    id7972|                    |     King Of Prussia|             Unknown|    8.0|   Unknown|\n",
            "|    id7998|                    |          Harrisburg|             Unknown|    8.0|   Unknown|\n",
            "|    id8174|                    |            Berkeley|             Unknown|    4.0|   Unknown|\n",
            "|    id8245|                    |              Bailey|             Unknown|    7.0|   Unknown|\n",
            "|    id8308|                    |              Santee|             Unknown|   10.0|   Unknown|\n",
            "|    id8338|                    |             Buffalo|             Unknown|    6.0|   Unknown|\n",
            "|    id8401|                    |              Vienna|             Unknown|    2.0|   Unknown|\n",
            "|    id8501|                    |               Scone|             Unknown|    7.0|   Unknown|\n",
            "|    id8581|                    |             Caracas|             Caracas|    9.0|   Unknown|\n",
            "|    id8673|                    |            Brighton|         East Sussex|    9.0|   Unknown|\n",
            "|    id8965|                    |           Daly City|             Unknown|    8.0|   Unknown|\n",
            "|    id9019|                    |            Igualada|             Unknown|   10.0|   Unknown|\n",
            "|    id9086|                    |             Houston|             Unknown|    8.0|   Unknown|\n",
            "|    id9173|                    |         George Town|              Penang|    5.0|   Unknown|\n",
            "|    id9236|                    |                 Kln|  Nordrheinwestfalen|    2.0|   Unknown|\n",
            "|    id9320|                    |                 Ljk|                 Lkj|    4.0|   Unknown|\n",
            "|    id9351|                    |            Florence|             Unknown|    7.0|   Unknown|\n",
            "|    id9556|                    |               Sffle|             Unknown|    1.0|   Unknown|\n",
            "|    id9595|            alderney|         Frankenthal|      Rheinlandpfalz|    1.0|   Unknown|\n",
            "|    id9661|                    |       Westvancouver|             Unknown|    5.0|   Unknown|\n",
            "|    id9961|                    |                Fedu|          Addu Atoll|    3.0|   Unknown|\n",
            "|   id10011|                    |            Columbus|             Unknown|    6.0|   Unknown|\n",
            "|   id10100|                    |  Athens  N Psychiko|             Unknown|    1.0|   Unknown|\n",
            "|   id10229|                    |                Hilo|             Unknown|   10.0|   Unknown|\n",
            "|   id10304|                    |              Lenexa|             Unknown|    3.0|   Unknown|\n",
            "|   id10584|                    |             Nanaimo|             Unknown|    6.0|   Unknown|\n",
            "|   id10613|                    |        Christchurch|             Unknown|    6.0|   Unknown|\n",
            "|   id10638|                    |              London|             England|    3.0|   Unknown|\n",
            "|   id10702|                    |             Toronto|             Unknown|    8.0|   Unknown|\n",
            "|   id10782|                    |            Hamilton|             Unknown|    7.0|   Unknown|\n",
            "|   id10808|                    |             Vitoria|             Unknown|    9.0|   Unknown|\n",
            "|   id10811|                    |             Section|             Unknown|    3.0|   Unknown|\n",
            "|   id10961|                    |             Abilene|             Unknown|    5.0|   Unknown|\n",
            "|   id10966|                    |              Vienna|             Unknown|    4.0|   Unknown|\n",
            "|   id11014|                    |               Cairo|               Cairo|   10.0|   Unknown|\n",
            "|   id11049|                    |           Stuttgart|     Badenwrttemberg|    2.0|   Unknown|\n",
            "|   id11095|                    |               Oadby|      Leicestershire|    1.0|   Unknown|\n",
            "|   id11237|                    |             Wasilla|             Unknown|    9.0|   Unknown|\n",
            "|   id11372|           monterrey|           Monterrey|           Nuevo Len|    7.0|   Unknown|\n",
            "|   id11482|                    |                 Ulm|             Unknown|    5.0|   Unknown|\n",
            "|   id11627|                    |               Derby|          Derbyshire|    1.0|   Unknown|\n",
            "|   id11796|                    |             Raleigh|             Unknown|    2.0|   Unknown|\n",
            "|   id11888|                    |              Surrey|             Unknown|    9.0|   Unknown|\n",
            "|   id11947|                    |              London|             England|    2.0|   Unknown|\n",
            "|   id11957|                    |              Ottawa|             Unknown|    7.0|   Unknown|\n",
            "|   id12012|                    |             Unknown|             Unknown|    1.0|   Unknown|\n",
            "|   id12136|                    |           Trondheim|             Unknown|    4.0|   Unknown|\n",
            "|   id12305|                    |             Unknown|      Zmir Na Turkey|     10|   Unknown|\n",
            "|   id12389|                    |           Lynchburg|             Unknown|    3.0|   Unknown|\n",
            "|   id12448|                    |              Surrey|             Unknown|    1.0|   Unknown|\n",
            "|   id12508|                    |            Dortmund|             Unknown|    6.0|   Unknown|\n",
            "|   id12519|                    |             Chester|             Unknown|    7.0|   Unknown|\n",
            "|   id12548|               space|               Earth|           Milky Way|   10.0|   Unknown|\n",
            "|   id12601|                    |            Bradford|             Unknown|    1.0|   Unknown|\n",
            "|   id12642|                    |           Edinburgh|             Unknown|    8.0|   Unknown|\n",
            "|   id12803|                    |         Springfield|             Unknown|    5.0|   Unknown|\n",
            "|   id12812|                    |        Christchurch|          Canterbury|    8.0|   Unknown|\n",
            "|   id12850|                    |           Peachland|             Unknown|    6.0|   Unknown|\n",
            "|   id12893|                    |             Seattle|             Unknown|   10.0|   Unknown|\n",
            "|   id12949|                    |           Sunnyvale|             Unknown|    4.0|   Unknown|\n",
            "|   id13151|                    |        Christchurch|             Unknown|   10.0|   Unknown|\n",
            "|   id13182|                    |             Halifax|             Unknown|    5.0|   Unknown|\n",
            "|   id13221|                    |              Topeka|             Unknown|    3.0|   Unknown|\n",
            "|   id13373|                    |Letchworth Garden...|             England|    9.0|   Unknown|\n",
            "|   id13580|                    |             Norfolk|             Unknown|    4.0|   Unknown|\n",
            "|   id13631|                    |         Surry Hills|             Unknown|    8.0|   Unknown|\n",
            "|   id13678|                    |               Boise|             Unknown|    7.0|   Unknown|\n",
            "|   id13790|                    |             Unknown|             Unknown|   10.0|   Unknown|\n",
            "|   id13815|                    |             Calgary|             Unknown|    8.0|   Unknown|\n",
            "|   id14055|                    |          Birmingham|       West Midlands|    6.0|   Unknown|\n",
            "|   id14197|                    |             Dronten|             Unknown|    8.0|   Unknown|\n",
            "|   id14226|                    |           Frederick|             Unknown|    4.0|   Unknown|\n",
            "|   id14593|                    |           Oudenburg|      Westvlaanderen|    4.0|   Unknown|\n",
            "|   id14630|                    |         Port Neches|             Unknown|    9.0|   Unknown|\n",
            "|   id14635|                    |           Heilbronn|   Badenwuerttemberg|    6.0|   Unknown|\n",
            "|   id14729|                    |           Edinburgh|             Unknown|    9.0|   Unknown|\n",
            "|   id14762|                    |              Munich|             Unknown|    9.0|   Unknown|\n",
            "|   id14862|                    |             Seattle|             Unknown|    7.0|   Unknown|\n",
            "|   id14959|                    |          Marysville|             Unknown|    1.0|   Unknown|\n",
            "|   id15061|                    |            Kirkwood|             Unknown|    6.0|   Unknown|\n",
            "|   id15210|                    |           Cambridge|             Unknown|    6.0|   Unknown|\n",
            "|   id15377|                    |            Coronado|             Unknown|    1.0|   Unknown|\n",
            "|   id15417|                    |        Colognekoeln|             Unknown|   10.0|   Unknown|\n",
            "|   id15421|                    |         E Patchogue|             Unknown|    8.0|   Unknown|\n",
            "|   id15542|                    |           Green Bay|             Unknown|    6.0|   Unknown|\n",
            "|   id15546|                    |            Montreal|             Unknown|    1.0|   Unknown|\n",
            "|   id15726|                    |         Twain Harte|             Unknown|    4.0|   Unknown|\n",
            "|   id15875|                    |                Bonn|             Unknown|    2.0|   Unknown|\n",
            "|   id15980|                    |         Murphysboro|             Unknown|    8.0|   Unknown|\n",
            "|   id16139|                    |              Hessle|             England|    7.0|   Unknown|\n",
            "|   id16142|                    |         Spruce St F|        Philadelphia|    7.0|   Unknown|\n",
            "|   id16196|                    |            Mililani|             Unknown|    1.0|   Unknown|\n",
            "|   id16223|                    |             Topsham|             Unknown|    9.0|   Unknown|\n",
            "|   id16354|                    |             Unknown|                   D|      2|   Unknown|\n",
            "|   id16403|                    |         Tg Secuiesc|             Unknown|    8.0|   Unknown|\n",
            "|   id16439|                    |             Unknown|             Unknown|    5.0|   Unknown|\n",
            "|   id16470|                    |       Overland Park|             Unknown|    4.0|   Unknown|\n",
            "|   id16771|                    |           Oak Cliff|             Unknown|    6.0|   Unknown|\n",
            "|   id16868|                    |        Grand Rapids|             Unknown|    8.0|   Unknown|\n",
            "|   id16938|                    |         Grand Haven|             Unknown|    1.0|   Unknown|\n",
            "|   id16999|                    |            Issaquah|             Unknown|    3.0|   Unknown|\n",
            "|   id17128|                    |          Huntsville|             Unknown|    3.0|   Unknown|\n",
            "|   id17157|                    |            Brooklyn|             Unknown|    7.0|   Unknown|\n",
            "|   id17464|                    |         Mooresville|             Unknown|    4.0|   Unknown|\n",
            "|   id17484|                    |         Springfield|             Unknown|    9.0|   Unknown|\n",
            "|   id17494|                    |      Campbell River|             Unknown|    8.0|   Unknown|\n",
            "|   id17653|                    |       North Mankato|             Unknown|    7.0|   Unknown|\n",
            "|   id17669|                    |              Surrey|             Unknown|    2.0|   Unknown|\n",
            "|   id17705|                    |            Nanchong|             Unknown|&#24029|   Unknown|\n",
            "|   id17973|                    |             Seattle|             Unknown|   10.0|   Unknown|\n",
            "|   id18033|                    |             Randers|         Eastjutland|    7.0|   Unknown|\n",
            "|   id18080|                    |             Seymour|             Unknown|    9.0|   Unknown|\n",
            "|   id18095|                    |         Chapel Hill|             Unknown|    6.0|   Unknown|\n",
            "|   id18282|                    |           Lafayette|             Unknown|    5.0|   Unknown|\n",
            "|   id18402|                    |             Newberg|             Unknown|    2.0|   Unknown|\n",
            "|   id18426|                    |     Nottinghamshire|     Nottinghamshire|    4.0|   Unknown|\n",
            "|   id18442|                    |            Brisbane|             Unknown|    6.0|   Unknown|\n",
            "|   id18674|                    |    Colorado Springs|             Unknown|    2.0|   Unknown|\n",
            "|   id18751|                    |              Auburn|             Unknown|    9.0|   Unknown|\n",
            "|   id18871|              galiza|              Ferrol|           A Corunha|    4.0|   Unknown|\n",
            "|   id18898|                    |             Toronto|             Unknown|    5.0|   Unknown|\n",
            "|   id18993|                    |              London|             Unknown|    8.0|   Unknown|\n",
            "|   id19030|                    |            Florence|             Unknown|    8.0|   Unknown|\n",
            "|   id19069|                    |          Lethbridge|             Unknown|    9.0|   Unknown|\n",
            "|   id19134|                    |              Milton|             Ontario|    9.0|   Unknown|\n",
            "|   id19160|                    |              Abadio| Euskal Herria Ba...|    5.0|   Unknown|\n",
            "|   id19333|                    |Vila Nova Da Barq...|             Unknown|    4.0|   Unknown|\n",
            "|   id19389|                    |             Unknown|Stanbul Istanbul ...|      9|   Unknown|\n",
            "|   id19481|                    |           St Albans|       Hertfordshire|    1.0|   Unknown|\n",
            "|   id19510|                    |             Unknown|             Unknown|    5.0|   Unknown|\n",
            "|   id19522|                    |           Fiumicino|             Unknown|    5.0|   Unknown|\n",
            "|   id19526|            doodedoo|             Tralala|            Lahdedah|    6.0|   Unknown|\n",
            "|   id19531|                    |              Nashua|             Unknown|    8.0|   Unknown|\n",
            "|   id19534|                    |           Green Bay|             Unknown|    4.0|   Unknown|\n",
            "|   id19546|                    |              Ottawa|             Unknown|    1.0|   Unknown|\n",
            "|   id19765|                    |          Old Bridge|             Unknown|    1.0|   Unknown|\n",
            "|   id19794|                    |           Sdsdddddd|             Unknown|&#25289|   Unknown|\n",
            "|   id19970|                    |       Wolverhampton|             England|    1.0|   Unknown|\n",
            "|   id20000|                    |           Worcester|       Massachusetts|    9.0|   Unknown|\n",
            "|   id20015|                    |           Clementon|             Unknown|    8.0|   Unknown|\n",
            "|   id20042|               espaa|            La Corua|            La Corua|    9.0|   Unknown|\n",
            "|   id20281|                    |             Roetgen|             Unknown|    6.0|   Unknown|\n",
            "|   id20602|                    |       New York City|             Unknown|   10.0|   Unknown|\n",
            "|   id20674|                    |         Los Angeles|             Unknown|    1.0|   Unknown|\n",
            "|   id20714|                    |           Beaverton|             Unknown|    4.0|   Unknown|\n",
            "|   id20720|                    |        White Plains|             Unknown|    7.0|   Unknown|\n",
            "|   id20968|                    |                 Roy|             Unknown|    3.0|   Unknown|\n",
            "|   id21050|                    |            Berkeley|             Unknown|    3.0|   Unknown|\n",
            "|   id21103|                    |            Carnegie|             Unknown|    7.0|   Unknown|\n",
            "|   id21148|                    |              Crdoba|             Unknown|    7.0|   Unknown|\n",
            "|   id21320|                    |               Perth|   Western Australia|   10.0|   Unknown|\n",
            "|   id21412|                    |         Springfield|             Unknown|    3.0|   Unknown|\n",
            "|   id21435|                    |             Chicago|             Unknown|    5.0|   Unknown|\n",
            "|   id21436|                    |              Vienna|             Unknown|    3.0|   Unknown|\n",
            "|   id21497|                    |           Vancouver|             Unknown|    8.0|   Unknown|\n",
            "|   id21534|                    |             Orleans|             Unknown|    7.0|   Unknown|\n",
            "|   id21567|                    |         Stone Ridge|             Unknown|    9.0|   Unknown|\n",
            "|   id21660|                    |            Dortmund|             Unknown|    9.0|   Unknown|\n",
            "|   id21704|                    |             Unknown|             Unknown|    8.0|   Unknown|\n",
            "|   id21719|                    |             Lincoln|             Unknown|   10.0|   Unknown|\n",
            "|   id21840|                    |            Ancaster|             Unknown|    2.0|   Unknown|\n",
            "|   id21873|                    |              Ottawa|             Unknown|    5.0|   Unknown|\n",
            "|   id21902|                    |             Unknown|             Unknown|    8.0|   Unknown|\n",
            "|   id22025|                    |           Fair Oaks|             Unknown|    2.0|   Unknown|\n",
            "|   id22074|                    |         Santo Andre|            Alentejo|    3.0|   Unknown|\n",
            "|   id22187|                    |             Raleigh|             Unknown|    7.0|   Unknown|\n",
            "|   id22357|                    |     Porto Da Espada|       Alto Alentejo|    4.0|   Unknown|\n",
            "|   id22412|                    |          Texas City|             Unknown|    6.0|   Unknown|\n",
            "|   id22664|                    |           Terracina|             Unknown|    3.0|   Unknown|\n",
            "|   id22914|                    |             Fiesole|             Unknown|    1.0|   Unknown|\n",
            "|   id22925|                    |             Cardiff|             Unknown|    2.0|   Unknown|\n",
            "|   id23287|                    |             Toronto|             Unknown|    8.0|   Unknown|\n",
            "|   id23430|                    |              Austin|             Unknown|   10.0|   Unknown|\n",
            "|   id23468|                    |              Duncan|             Unknown|    8.0|   Unknown|\n",
            "|   id23508|                    |            Aventura|             Unknown|    8.0|   Unknown|\n",
            "|   id23563|                    |    Lake Forest Park|             Unknown|    9.0|   Unknown|\n",
            "|   id23597|                    |            Winnipeg|             Unknown|    3.0|   Unknown|\n",
            "|   id23742|                    |                Kent|          Washington|    6.0|   Unknown|\n",
            "|   id23870|                    |               Aloha|             Unknown|    3.0|   Unknown|\n",
            "|   id23884|                    |         Minneapolis|             Unknown|    1.0|   Unknown|\n",
            "|   id24151|                    |            Standish|             Unknown|    9.0|   Unknown|\n",
            "|   id24183|                    |           Cebu City| Cebu Province Ph...|    1.0|   Unknown|\n",
            "|   id24211|                    |           Veldhoven|       Noord Brabant|    9.0|   Unknown|\n",
            "|   id24222|                    |             Unknown|      Zmir Na Turkey|      2|   Unknown|\n",
            "|   id24253|                    |                   Y|                  Ld|      1|   Unknown|\n",
            "|   id24333|                    |              Aarhus|             Unknown|   10.0|   Unknown|\n",
            "|   id24334|                    |             Unknown|                   D|     10|   Unknown|\n",
            "|   id24380|                    |        Jacksonville|             Unknown|    2.0|   Unknown|\n",
            "|   id24420|                    |            Gardiner|             Unknown|    2.0|   Unknown|\n",
            "|   id24426|                    |              Riyadh|              Riyadh|    2.0|   Unknown|\n",
            "|   id24447|                    |        Sierra Vista|             Unknown|    9.0|   Unknown|\n",
            "|   id24631|                    |       Newport Coast|             Unknown|    9.0|   Unknown|\n",
            "|   id24842|                    |         Zoolooriver|             Unknown|    3.0|   Unknown|\n",
            "|   id24866|                    |            Varanasi|             Unknown|    3.0|   Unknown|\n",
            "|   id25012|                    |             Bethune|             Unknown|   10.0|   Unknown|\n",
            "|   id25036|                    |         Cleethorpes|             England|    9.0|   Unknown|\n",
            "|   id25134|                    |          Bridgetown|         West Indies|    7.0|   Unknown|\n",
            "|   id25144|                    |            St Cloud|             Unknown|   10.0|   Unknown|\n",
            "|   id25204|                    |                Lige|             Unknown|    2.0|   Unknown|\n",
            "|   id25294|                    |        Johannesburg|             Unknown|    3.0|   Unknown|\n",
            "|   id25546|                    |          Charleston|             Unknown|    1.0|   Unknown|\n",
            "|   id25887|                    |       Abbiategrasso|             Unknown|    7.0|   Unknown|\n",
            "|   id26010|          yugoslavia|    Sremska Kamenica| Serbia And Monte...|    1.0|   Unknown|\n",
            "|   id26062|                    |            Edmonton|             Unknown|    3.0|   Unknown|\n",
            "|   id26064|                    |            Bakewell|             Unknown|    8.0|   Unknown|\n",
            "|   id26102|                    |               Truro|             Unknown|    6.0|   Unknown|\n",
            "|   id26165|                    |               Banff|             Unknown|    6.0|   Unknown|\n",
            "|   id26219|                    |        Gainsborough|             Unknown|   10.0|   Unknown|\n",
            "|   id26311|                    |            Lewiston|             Unknown|    2.0|   Unknown|\n",
            "|   id26315|                    |           Taroudant|             Unknown|    8.0|   Unknown|\n",
            "|   id26363|                    |       Conneautville|             Unknown|    2.0|   Unknown|\n",
            "|   id26536|                    |             Baldwin|             Unknown|    9.0|   Unknown|\n",
            "|   id26593|                    |             Fremont|             Unknown|   10.0|   Unknown|\n",
            "|   id26602|               mxico|               Mrida|              Yucatn|    9.0|   Unknown|\n",
            "|   id26702|                    |          Citronelle|             Unknown|    5.0|   Unknown|\n",
            "|   id26717|                    |           Hillsboro|             Unknown|    1.0|   Unknown|\n",
            "|   id26756|                    |          Burlington|             Unknown|    1.0|   Unknown|\n",
            "|   id26817|                    |              London|             Unknown|    7.0|   Unknown|\n",
            "|   id26893|                    |           Mapellobg|             Unknown|    9.0|   Unknown|\n",
            "|   id26995|          nederlands|           Amsterdam|        Nord Holland|    1.0|   Unknown|\n",
            "|   id27125|              tdzimi|           Znuizinbt|             Fzmnuoi|    9.0|   Unknown|\n",
            "|   id27162|                    |          Manchester|       New Hampshire|    4.0|   Unknown|\n",
            "|   id27220|                    |           Melbourne|             Unknown|    8.0|   Unknown|\n",
            "|   id27294|                    |           Jamestown|             Unknown|    7.0|   Unknown|\n",
            "|   id27336|                    |         Quezon City|              Manila|   10.0|   Unknown|\n",
            "|   id27383|                    |              London|             Unknown|    6.0|   Unknown|\n",
            "|   id27459|                    |              Newark|             Unknown|    9.0|   Unknown|\n",
            "|   id27711|                    |            Oak Leaf|             Unknown|   10.0|   Unknown|\n",
            "|   id27757|                    |       Prince George|             Unknown|    6.0|   Unknown|\n",
            "|   id27794|                    |         Bay Minette|             Unknown|    9.0|   Unknown|\n",
            "|   id27814|                    |      East Greenwich|             Unknown|   10.0|   Unknown|\n",
            "|   id27896|                    |             Nrnberg|             Unknown|    6.0|   Unknown|\n",
            "|   id28052|                    |         Wallingford|             Unknown|    5.0|   Unknown|\n",
            "|   id28063|                    |      Kaiserslautern|             Unknown|    9.0|   Unknown|\n",
            "|   id28137|                    |           Arlington|             Unknown|   10.0|   Unknown|\n",
            "|   id28231|                    |      Middle Village|             Unknown|    7.0|   Unknown|\n",
            "|   id28368|                    |             Gwynedd|               Wales|    7.0|   Unknown|\n",
            "|   id28391|                    |         Albuquerque|             Unknown|    3.0|   Unknown|\n",
            "|   id28649|                    |          Birmingham|             Unknown|    2.0|   Unknown|\n",
            "|   id28898|                    |             Wayzata|             Unknown|    8.0|   Unknown|\n",
            "|   id29003|                    |           Melbourne|             Unknown|    9.0|   Unknown|\n",
            "|   id29146|                    |           Corvallis|             Unknown|   10.0|   Unknown|\n",
            "|   id29207|                    |              Boring|             Unknown|    5.0|   Unknown|\n",
            "|   id29272|                    |           Scottdale|             Unknown|    4.0|   Unknown|\n",
            "|   id29349|                    |             Unknown|             Unknown|    6.0|   Unknown|\n",
            "|   id29372|                    |           Frankford|             Unknown|    3.0|   Unknown|\n",
            "|   id29553|                    |           Woodstock|             Unknown|    9.0|   Unknown|\n",
            "|   id29746|                    |              Denver|             Unknown|    4.0|   Unknown|\n",
            "|   id29896|                    |         Parkersburg|             Unknown|    6.0|   Unknown|\n",
            "|   id29931|                    |           Las Vegas|             Unknown|    1.0|   Unknown|\n",
            "|   id30007|                    |              London|             Unknown|    5.0|   Unknown|\n",
            "|   id30070|                    |           Stratford|             Unknown|    5.0|   Unknown|\n",
            "|   id30125| st vincent and t...|             Belmont|              Bequia|    6.0|   Unknown|\n",
            "|   id30427|                    |        Douglasville|             Unknown|    9.0|   Unknown|\n",
            "|   id30541|                    |             Bocabec|             Unknown|    5.0|   Unknown|\n",
            "|   id30611|                    |      Scanzorosciate|             Unknown|    3.0|   Unknown|\n",
            "|   id30700|                    |         Tallahassee|             Unknown|    5.0|   Unknown|\n",
            "|   id30723|                    |          Carmichael|             Unknown|    8.0|   Unknown|\n",
            "|   id30898|                    |      Canonica Dadda|             Unknown|    4.0|   Unknown|\n",
            "|   id30927|          zhengjiang|              Ningbo|          Zhengjiang|    9.0|   Unknown|\n",
            "|   id31148|                    |               Ewing|             Unknown|    4.0|   Unknown|\n",
            "|   id31194|                    |              Newark|             Unknown|    5.0|   Unknown|\n",
            "|   id31400|                    |              London|             Unknown|    4.0|   Unknown|\n",
            "|   id31664|                    |             Berkley|             Unknown|    3.0|   Unknown|\n",
            "|   id31765|                    |             Cologne|             Unknown|    4.0|   Unknown|\n",
            "|   id31803|                    |            Dixmoore|             Unknown|    4.0|   Unknown|\n",
            "|   id31994|                    |             Cypress|             Unknown|    6.0|   Unknown|\n",
            "|   id32009|                    |           Stuttgart|             Unknown|    5.0|   Unknown|\n",
            "+----------+--------------------+--------------------+--------------------+-------+----------+\n",
            "\n"
          ]
        }
      ],
      "source": [
        "df.filter(col(\"CountryNew\") == \"Unknown\").show(10000)"
      ]
    },
    {
      "cell_type": "markdown",
      "source": [
        "Fixing those groups"
      ],
      "metadata": {
        "id": "Kzxii4Vma3KC"
      }
    },
    {
      "cell_type": "code",
      "execution_count": 125,
      "metadata": {
        "id": "iYpk-fBJm6f1"
      },
      "outputs": [],
      "source": [
        "df = df.withColumn(\"Country\", regexp_replace(col(\"Country\"), \"\\\\\\\\\", \"\"))\n",
        "df = df.withColumn(\"Country\", regexp_replace(col(\"Country\"), \"\\\\.\", \"\"))\n",
        "df = df.withColumn(\"Country\", regexp_replace(col(\"Country\"), \"(?i)turkey\", \"Türkiye\"))\n",
        "df = df.withColumn(\"Country\", regexp_replace(col(\"Country\"), \"espaa\", \"Spain\"))\n",
        "df = df.withColumn(\"Country\", regexp_replace(col(\"Country\"), \"uae\", \"United Arab Emirates\"))\n",
        "df = df.withColumn(\"Country\", regexp_replace(col(\"Country\"), \"(?i)la \", \"\"))"
      ]
    },
    {
      "cell_type": "code",
      "source": [
        "df.show(10)"
      ],
      "metadata": {
        "colab": {
          "base_uri": "https://localhost:8080/"
        },
        "id": "dJXS-dLlLniw",
        "outputId": "13117561-f550-4ecb-eb1e-c240861cb14c"
      },
      "execution_count": 97,
      "outputs": [
        {
          "output_type": "stream",
          "name": "stdout",
          "text": [
            "+----------+---------------+------------+----------------+------+------------------+\n",
            "|customerID|        Country|        City|           State|Rating|        CountryNew|\n",
            "+----------+---------------+------------+----------------+------+------------------+\n",
            "|    id7044|            usa|         nyc|        new york|   9.0|     United States|\n",
            "|    id7045|            usa|    stockton|      california|   5.0|     United States|\n",
            "|    id7046|         russia|      moscow| yukon territory|   5.0|Russian Federation|\n",
            "|    id7047|       portugal|       porto|          vngaia|   9.0|          Portugal|\n",
            "|    id7048| united kingdom| farnborough|           hants|   8.0|    United Kingdom|\n",
            "|    id7049|            usa|santa monica|      california|  10.0|     United States|\n",
            "|    id7050|            usa|  washington|              dc|   3.0|     United States|\n",
            "|    id7051|         canada|     timmins|         ontario|   2.0|            Canada|\n",
            "|    id7052|            usa|  germantown|       tennessee|  10.0|     United States|\n",
            "|    id7053|          spain|    albacete|       wisconsin|  10.0|             Spain|\n",
            "+----------+---------------+------------+----------------+------+------------------+\n",
            "only showing top 10 rows\n",
            "\n"
          ]
        }
      ]
    },
    {
      "cell_type": "code",
      "source": [
        "from pyspark.sql.functions import col, trim, lower\n",
        "df.filter(lower(trim(col(\"Country\"))) == \"usa\").show(10)"
      ],
      "metadata": {
        "colab": {
          "base_uri": "https://localhost:8080/"
        },
        "id": "AWMFEQka3h9x",
        "outputId": "59c02467-6e11-44aa-8689-57f3053f207c"
      },
      "execution_count": 129,
      "outputs": [
        {
          "output_type": "stream",
          "name": "stdout",
          "text": [
            "+----------+-------+------------+-------------+------+-------------+\n",
            "|customerID|Country|        City|        State|Rating|   CountryNew|\n",
            "+----------+-------+------------+-------------+------+-------------+\n",
            "|    id7044|    usa|         Nyc|     New York|   9.0|United States|\n",
            "|    id7045|    usa|    Stockton|   California|   5.0|United States|\n",
            "|    id7049|    usa|Santa Monica|   California|  10.0|United States|\n",
            "|    id7050|    usa|  Washington|           Dc|   3.0|United States|\n",
            "|    id7052|    usa|  Germantown|    Tennessee|  10.0|United States|\n",
            "|    id7055|    usa|  Fort Bragg|   California|   6.0|United States|\n",
            "|    id7057|    usa|  Mediapolis|         Iowa|   5.0|United States|\n",
            "|    id7059|    usa| Albuquerque|   New Mexico|   9.0|United States|\n",
            "|    id7060|    usa|  Chesapeake|     Virginia|   6.0|United States|\n",
            "|    id7063|    usa|   Langhorne| Pennsylvania|   5.0|United States|\n",
            "+----------+-------+------------+-------------+------+-------------+\n",
            "only showing top 10 rows\n",
            "\n"
          ]
        }
      ]
    },
    {
      "cell_type": "code",
      "execution_count": 127,
      "metadata": {
        "id": "jVE6bH8nQ3CV"
      },
      "outputs": [],
      "source": [
        "df = df.select(\n",
        "    col(\"customerID\"),\n",
        "    col(\"Country\"),\n",
        "    col(\"City\"),\n",
        "    col(\"State\"),\n",
        "    col(\"Rating\"),\n",
        "    when((col(\"Country\")!=\"\") & (findCountryUDF(col(\"Country\")) != \"Unknown\"),\n",
        "          findCountryUDF(col(\"Country\"))).otherwise(\n",
        "        when((col(\"City\").isNotNull()) & (findCountryUDF(col(\"City\")) != \"Unknown\"),\n",
        "              findCountryUDF(col(\"City\"))).otherwise(\n",
        "            when((col(\"State\").isNotNull()) & (findCountryUDF(col(\"State\")) != \"Unknown\"),\n",
        "                  findCountryUDF(col(\"State\"))).otherwise(\"Unknown\")\n",
        "        )\n",
        "    ).alias(\"CountryNew\")\n",
        ")"
      ]
    },
    {
      "cell_type": "code",
      "execution_count": 131,
      "metadata": {
        "colab": {
          "base_uri": "https://localhost:8080/"
        },
        "id": "gKRjJsOpaMX_",
        "outputId": "cfc0833b-09bc-403f-cda7-0ddc73be0fce"
      },
      "outputs": [
        {
          "output_type": "stream",
          "name": "stdout",
          "text": [
            "+----------+-------+------------+-------------+------+-------------+\n",
            "|customerID|Country|        City|        State|Rating|   CountryNew|\n",
            "+----------+-------+------------+-------------+------+-------------+\n",
            "|    id7044|    usa|         Nyc|     New York|   9.0|United States|\n",
            "|    id7045|    usa|    Stockton|   California|   5.0|United States|\n",
            "|    id7049|    usa|Santa Monica|   California|  10.0|United States|\n",
            "|    id7050|    usa|  Washington|           Dc|   3.0|United States|\n",
            "|    id7052|    usa|  Germantown|    Tennessee|  10.0|United States|\n",
            "|    id7055|    usa|  Fort Bragg|   California|   6.0|United States|\n",
            "|    id7057|    usa|  Mediapolis|         Iowa|   5.0|United States|\n",
            "|    id7059|    usa| Albuquerque|   New Mexico|   9.0|United States|\n",
            "|    id7060|    usa|  Chesapeake|     Virginia|   6.0|United States|\n",
            "|    id7063|    usa|   Langhorne| Pennsylvania|   5.0|United States|\n",
            "+----------+-------+------------+-------------+------+-------------+\n",
            "only showing top 10 rows\n",
            "\n"
          ]
        }
      ],
      "source": [
        "df.filter(lower(trim(col(\"Country\"))) == \"usa\").show(10)"
      ]
    },
    {
      "cell_type": "code",
      "execution_count": 31,
      "metadata": {
        "id": "AMOWXOoaBmu8"
      },
      "outputs": [],
      "source": [
        "temp = df"
      ]
    },
    {
      "cell_type": "markdown",
      "source": [
        "Almost a fifth of the uknowns were fixed as well"
      ],
      "metadata": {
        "id": "mj8nPbEia_OQ"
      }
    },
    {
      "cell_type": "code",
      "execution_count": 32,
      "metadata": {
        "id": "O8Z1d98TBygB",
        "colab": {
          "base_uri": "https://localhost:8080/"
        },
        "outputId": "89f0f371-6dcc-41c3-9a5d-351795a3f303"
      },
      "outputs": [
        {
          "output_type": "stream",
          "name": "stdout",
          "text": [
            "+--------+-----+\n",
            "|Category|  cnt|\n",
            "+--------+-----+\n",
            "|   Known|24619|\n",
            "| Unknown|  239|\n",
            "+--------+-----+\n",
            "\n"
          ]
        }
      ],
      "source": [
        "temp = temp.withColumn(\"Category\",\n",
        "    when(col(\"CountryNew\") == \"Unknown\", \"Unknown\")\n",
        "    .otherwise(\"Known\")\n",
        ")\n",
        "\n",
        "\n",
        "temp = temp.groupBy(\"Category\")  \\\n",
        "    .agg(count(\"Country\").alias(\"cnt\")) \\\n",
        "    .orderBy(col(\"cnt\").desc())  # Order by count descending\n",
        "\n",
        "temp.show(100)"
      ]
    },
    {
      "cell_type": "markdown",
      "source": [
        "# Showing our efforts to clean and standardize the data, less than 1% is \"Dirty\"\n",
        "\n",
        "> Add blockquote\n",
        "\n"
      ],
      "metadata": {
        "id": "fX2uVu6VbEwR"
      }
    },
    {
      "cell_type": "code",
      "source": [
        "from pyspark.sql import SparkSession\n",
        "from pyspark.sql.functions import col, count, when\n",
        "import matplotlib.pyplot as plt\n",
        "import pandas as pd\n",
        "\n",
        "# temp = temp.toPandas()\n",
        "\n",
        "plt.figure(figsize=(8, 6))\n",
        "plt.pie(temp['cnt'], labels=temp['Category'], autopct='%1.1f%%', startangle=140)\n",
        "plt.title('Distribution of Countries by Category')\n",
        "plt.axis('equal')\n",
        "plt.tight_layout()\n",
        "plt.show()"
      ],
      "metadata": {
        "colab": {
          "base_uri": "https://localhost:8080/",
          "height": 607
        },
        "id": "87UUKxTXGjQ3",
        "outputId": "22ae53ac-a551-49ee-b712-6c3d4775f2cd"
      },
      "execution_count": 50,
      "outputs": [
        {
          "output_type": "display_data",
          "data": {
            "text/plain": [
              "<Figure size 800x600 with 1 Axes>"
            ],
            "image/png": "[encoded data removed]"
          },
          "metadata": {}
        }
      ]
    },
    {
      "cell_type": "code",
      "source": [
        "distinctRatings = df.select(\"Rating\").distinct()"
      ],
      "metadata": {
        "id": "k1FSa2nUIAiD"
      },
      "execution_count": 132,
      "outputs": []
    },
    {
      "cell_type": "code",
      "source": [
        "valid_ratings = [1.0, 2.0, 3.0, 4.0, 5.0, 6.0, 7.0, 8.0, 9.0, 10.0]\n",
        "\n",
        "# Filter rows where Rating is not in the list of valid ratings\n",
        "invalid_ratings_df = df.filter(~col(\"Rating\").isin(valid_ratings))\n",
        "\n",
        "\n",
        "# Select and show distinct invalid ratings\n",
        "invalid_ratings_df.select(\"Rating\").show(10)\n",
        "\n",
        "# Count the number of rows with invalid ratings\n",
        "invalid_ratings_count = invalid_ratings_df.count()\n",
        "\n",
        "print(f\"Number of rows with invalid ratings: {invalid_ratings_count}\")"
      ],
      "metadata": {
        "colab": {
          "base_uri": "https://localhost:8080/"
        },
        "id": "Bum4SFsrICxl",
        "outputId": "2afe50d1-026a-49fe-c1a9-c365d5d11938"
      },
      "execution_count": 133,
      "outputs": [
        {
          "output_type": "stream",
          "name": "stdout",
          "text": [
            "+-------+\n",
            "| Rating|\n",
            "+-------+\n",
            "|     10|\n",
            "|      1|\n",
            "|      2|\n",
            "|&#24029|\n",
            "|      9|\n",
            "|&#25289|\n",
            "|      2|\n",
            "|      1|\n",
            "|     10|\n",
            "+-------+\n",
            "\n",
            "Number of rows with invalid ratings: 9\n"
          ]
        }
      ]
    },
    {
      "cell_type": "code",
      "source": [
        "df = df.filter(col(\"Rating\").isin(valid_ratings))"
      ],
      "metadata": {
        "id": "ABVb5ulNITC7"
      },
      "execution_count": 134,
      "outputs": []
    },
    {
      "cell_type": "code",
      "source": [
        "df.select(\"Rating\").distinct().show(20)"
      ],
      "metadata": {
        "colab": {
          "base_uri": "https://localhost:8080/"
        },
        "id": "KgGhhvK-Ibu9",
        "outputId": "739c44b9-37a4-43e5-d989-9d949d0510d5"
      },
      "execution_count": 135,
      "outputs": [
        {
          "output_type": "stream",
          "name": "stdout",
          "text": [
            "+------+\n",
            "|Rating|\n",
            "+------+\n",
            "|   1.0|\n",
            "|   9.0|\n",
            "|  10.0|\n",
            "|   5.0|\n",
            "|   6.0|\n",
            "|   4.0|\n",
            "|   7.0|\n",
            "|   2.0|\n",
            "|   8.0|\n",
            "|   3.0|\n",
            "+------+\n",
            "\n"
          ]
        }
      ]
    },
    {
      "cell_type": "code",
      "source": [
        "df.show(10)"
      ],
      "metadata": {
        "colab": {
          "base_uri": "https://localhost:8080/"
        },
        "id": "RvIeXUgnKIJS",
        "outputId": "fbf3a0d0-806b-48e0-c5ac-026981ae8b3d"
      },
      "execution_count": 136,
      "outputs": [
        {
          "output_type": "stream",
          "name": "stdout",
          "text": [
            "+----------+---------------+------------+----------------+------+------------------+\n",
            "|customerID|        Country|        City|           State|Rating|        CountryNew|\n",
            "+----------+---------------+------------+----------------+------+------------------+\n",
            "|    id7044|            usa|         Nyc|        New York|   9.0|     United States|\n",
            "|    id7045|            usa|    Stockton|      California|   5.0|     United States|\n",
            "|    id7046|         russia|      Moscow| Yukon Territory|   5.0|Russian Federation|\n",
            "|    id7047|       portugal|       Porto|          Vngaia|   9.0|          Portugal|\n",
            "|    id7048| united kingdom| Farnborough|           Hants|   8.0|    United Kingdom|\n",
            "|    id7049|            usa|Santa Monica|      California|  10.0|     United States|\n",
            "|    id7050|            usa|  Washington|              Dc|   3.0|     United States|\n",
            "|    id7051|         canada|     Timmins|         Ontario|   2.0|            Canada|\n",
            "|    id7052|            usa|  Germantown|       Tennessee|  10.0|     United States|\n",
            "|    id7053|          spain|    Albacete|       Wisconsin|  10.0|             Spain|\n",
            "+----------+---------------+------------+----------------+------+------------------+\n",
            "only showing top 10 rows\n",
            "\n"
          ]
        }
      ]
    },
    {
      "cell_type": "markdown",
      "source": [],
      "metadata": {
        "id": "FYNK6ADnIkJZ"
      }
    },
    {
      "cell_type": "markdown",
      "source": [
        "#Constructing a UDF to accepct a CSV, manipulate and extract the data localy"
      ],
      "metadata": {
        "id": "opsvbHikaBrM"
      }
    },
    {
      "cell_type": "code",
      "source": [
        "output_path = \"/content/drive/MyDrive/Colab Notebooks/BDA.2024-Spark/Country&Rating.csv\"\n",
        "def CleanGEO(datapath):\n",
        "    try:\n",
        "        # Read CSV file\n",
        "        x = spark.read.csv(datapath, inferSchema=True, header=True)\n",
        "\n",
        "        # Apply delimiter and header options\n",
        "        x = spark.read.option(\"delimiter\", \";\").option(\"header\", True).csv(datapath)\n",
        "        x = spark.read.text(datapath)\n",
        "\n",
        "        # Clean the 'value' column\n",
        "        x = x.withColumn('value', trim(regexp_replace('value', '[\"]', '')))\n",
        "\n",
        "        # Split the 'value' column into separate columns\n",
        "        split_cols = split(x['value'], ';')\n",
        "        x = x.select(\n",
        "            split_cols.getItem(0).alias('customerID'),\n",
        "            split_cols.getItem(4).alias('Country'),\n",
        "            split_cols.getItem(2).alias('State'),\n",
        "            split_cols.getItem(1).alias('City'),\n",
        "            split_cols.getItem(3).alias('Rating')\n",
        "        )\n",
        "\n",
        "\n",
        "        # Remove header row if present, removing symbals\n",
        "        x = x.filter(x['customerID'] != 'customerID')\n",
        "        x = x.withColumn('Country', regexp_replace(col('Country'), r'[^\\sa-zA-Z]', ''))\n",
        "        x = x.withColumn('State', regexp_replace(col('State'), r'[^\\sa-zA-Z]', ''))\n",
        "        x = x.withColumn('City', regexp_replace(col('City'), r'[^\\sa-zA-Z]', ''))\n",
        "\n",
        "        # Clean 'City' 'Country' and 'State' columns\n",
        "        x = x.withColumn('City',  initcap(regexp_replace(col('City'), r'[^\\w\\s]', '')))\n",
        "        x = x.withColumn('State', initcap(regexp_replace(col('State'), r'[^\\w\\s]', '')))\n",
        "        x = x.withColumn('Country', regexp_replace('Country', r'[^\\w\\s]', ''))\n",
        "\n",
        "        # Standardize 'Country' column\n",
        "        x = x.withColumn(\"Country\", regexp_replace(col(\"Country\"), \"\\\\\\\\\", \"\"))\n",
        "        x = x.withColumn(\"Country\", regexp_replace(col(\"Country\"), \"\\\\.\", \"\"))\n",
        "        x = x.withColumn(\"Country\", regexp_replace(col(\"Country\"), \"(?i)turkey\", \"Türkiye\"))\n",
        "        x = x.withColumn(\"Country\", regexp_replace(col(\"Country\"), \"espaa\", \"Spain\"))\n",
        "        x = x.withColumn(\"Country\", regexp_replace(col(\"Country\"), \"uae\", \"United Arab Emirates\"))\n",
        "        x = x.withColumn(\"Country\", regexp_replace(col(\"Country\"), \"(?i)la \", \"\"))\n",
        "\n",
        "        # Derive 'CountryNew' column using the UDF\n",
        "        x = x.select(\n",
        "            col(\"customerID\"),\n",
        "            col(\"Country\"),\n",
        "            col(\"City\"),\n",
        "            col(\"State\"),\n",
        "            col(\"Rating\"),\n",
        "            when((col(\"Country\")!=\"\") & (findCountryUDF(col(\"Country\")) != \"Unknown\"),\n",
        "                  findCountryUDF(col(\"Country\"))).otherwise(\n",
        "                when((col(\"City\").isNotNull()) & (findCountryUDF(col(\"City\")) != \"Unknown\"),\n",
        "                      findCountryUDF(col(\"City\"))).otherwise(\n",
        "                    when((col(\"State\").isNotNull()) & (findCountryUDF(col(\"State\")) != \"Unknown\"),\n",
        "                          findCountryUDF(col(\"State\"))).otherwise(\"Unknown\")\n",
        "                )\n",
        "            ).alias(\"CountryNew\")\n",
        "        )\n",
        "\n",
        "        x = x.withColumn('CountryNew', when((trim(col('Country')) == \"\") & (col('CountryNew') == \"United Kingdom\"), \"Unknown\").otherwise(col('CountryNew')))\n",
        "        x = x.withColumn('City', when((trim(col('City')) == \"na\") | (trim(col('City')) == \"\"), \"Unknown\").otherwise(col('City')))\n",
        "        x = x.withColumn('City', when((trim(col('City')) == \"Na\") | (trim(col('City')) == \"\"), \"Unknown\").otherwise(col('City')))\n",
        "        x = x.withColumn('State', when((trim(col('State')) == \"na\") | (trim(col('State')) == \"\"), \"Unknown\").otherwise(col('State')))\n",
        "        x = x.withColumn('State', when((trim(col('State')) == \"Na\") | (trim(col('State')) == \"\"), \"Unknown\").otherwise(col('State')))\n",
        "\n",
        "\n",
        "        # Remove the original 'Country' column\n",
        "        x = x.drop('Country')\n",
        "\n",
        "        # Rename 'CountryNew' to 'Country'\n",
        "        x = x.withColumnRenamed('CountryNew', 'Country')\n",
        "\n",
        "        # Reorder columns to place 'Country' as the second column\n",
        "        x = x.select(\"customerID\", \"Country\", \"City\", \"State\", \"Rating\")\n",
        "\n",
        "        # Remove duplicate rows\n",
        "        x = x.dropDuplicates()\n",
        "\n",
        "        # Removes Rows with Invalid Ratings\n",
        "        valid_ratings = [1.0, 2.0, 3.0, 4.0, 5.0, 6.0, 7.0, 8.0, 9.0, 10.0]\n",
        "        x = x.filter(col(\"Rating\").isin(valid_ratings))\n",
        "\n",
        "        # Show the first 5 rows\n",
        "        x.show(5)\n",
        "\n",
        "        # Export the cleaned DataFrame to CSV\n",
        "        x.coalesce(1).write.mode('overwrite').csv(output_path, header=True)\n",
        "\n",
        "        return x\n",
        "\n",
        "    except Exception as e:\n",
        "        print(f\"An error occurred: {e}\")\n",
        "        return None"
      ],
      "metadata": {
        "id": "ZHWhEZY4TMR6"
      },
      "execution_count": 139,
      "outputs": []
    },
    {
      "cell_type": "code",
      "source": [
        "CleanGEO(datapath)"
      ],
      "metadata": {
        "id": "2ZFUvPr2lLoX",
        "colab": {
          "base_uri": "https://localhost:8080/"
        },
        "outputId": "e8587ad1-6173-483f-a4d5-7ca8da85de37"
      },
      "execution_count": 140,
      "outputs": [
        {
          "output_type": "stream",
          "name": "stdout",
          "text": [
            "+----------+-------------+------------+-----------------+------+\n",
            "|customerID|      Country|        City|            State|Rating|\n",
            "+----------+-------------+------------+-----------------+------+\n",
            "|    id7116|United States|  Wentzville|         Missouri|   6.0|\n",
            "|    id7216|United States|        Ames|             Iowa|   5.0|\n",
            "|    id7258|       Canada|Port Alberni| British Columbia|   8.0|\n",
            "|    id7354|  Netherlands|  Ridderkerk|          Unknown|   4.0|\n",
            "|    id7634|United States| Miami Beach|          Florida|   6.0|\n",
            "+----------+-------------+------------+-----------------+------+\n",
            "only showing top 5 rows\n",
            "\n"
          ]
        },
        {
          "output_type": "execute_result",
          "data": {
            "text/plain": [
              "DataFrame[customerID: string, Country: string, City: string, State: string, Rating: string]"
            ]
          },
          "metadata": {},
          "execution_count": 140
        }
      ]
    }
  ],
  "metadata": {
    "colab": {
      "provenance": []
    },
    "kernelspec": {
      "display_name": "Python 3",
      "name": "python3"
    },
    "language_info": {
      "name": "python"
    }
  },
  "nbformat": 4,
  "nbformat_minor": 0
}